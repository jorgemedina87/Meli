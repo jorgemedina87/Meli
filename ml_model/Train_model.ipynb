{
 "cells": [
  {
   "attachments": {},
   "cell_type": "markdown",
   "metadata": {},
   "source": [
    "## Librerias"
   ]
  },
  {
   "cell_type": "code",
   "execution_count": 1,
   "metadata": {},
   "outputs": [],
   "source": [
    "import numpy as np                          # Operaciones numéricas eficientes en matrices\n",
    "import pandas as pd                         # Estructuras y análisis de datos tabulares\n",
    "import json                                 # Manipulación de objetos JSON\n",
    "import jsonlines                            # Lectura y escritura de archivos JSON en formato de líneas\n",
    "from sklearn.compose import ColumnTransformer  # Transformaciones de columnas en un estimador de flujo de trabajo\n",
    "from sklearn.preprocessing import OneHotEncoder  # Codificación one-hot para variables categóricas\n",
    "from sklearn.preprocessing import StandardScaler  # Escalado de características\n",
    "from sklearn.compose import make_column_selector  # Selector de columnas basado en tipos de datos\n",
    "from sklearn.pipeline import Pipeline       # Construcción de canalizaciones de transformación y modelado\n",
    "from sklearn.impute import SimpleImputer    # Imputación de valores faltantes\n",
    "from sklearn import preprocessing          # Preprocesamiento de datos\n",
    "import imblearn                            # Técnicas de remuestreo y equilibrio de clases\n",
    "import matplotlib.pyplot as plt            # Creación de gráficos y visualización de datos\n",
    "import xgboost as xgb                       # Implementación de algoritmos de XGBoost\n",
    "from xgboost import XGBClassifier          # Clasificador XGBoost\n",
    "from sklearn.model_selection import train_test_split  # División de datos en conjuntos de entrenamiento y prueba\n",
    "from sklearn.preprocessing import LabelEncoder       # Codificación de etiquetas\n",
    "from sklearn.metrics import average_precision_score  # Cálculo del promedio de precisión\n",
    "from scipy import stats                     # Funciones estadísticas y matemáticas avanzadas\n",
    "from sklearn.metrics import roc_curve, mean_squared_error, roc_auc_score, precision_score  # Métricas de evaluación\n",
    "from sklearn.metrics import precision_recall_curve, auc, confusion_matrix, recall_score\n",
    "from sklearn.metrics import accuracy_score, cohen_kappa_score, classification_report\n",
    "from sklearn.metrics import fbeta_score, make_scorer, f1_score\n",
    "from sklearn.model_selection import train_test_split  # División de datos en conjuntos de entrenamiento y prueba\n",
    "from sklearn.model_selection import GridSearchCV     # Búsqueda exhaustiva de hiperparámetros en cuadrícula\n",
    "from sklearn.model_selection import StratifiedKFold   # División estratificada de datos para validación cruzada\n",
    "from sklearn.model_selection import RandomizedSearchCV  # Búsqueda aleatoria de hiperparámetros\n",
    "import time                                    # Funciones relacionadas con el tiempo\n",
    "from sklearn.preprocessing import StandardScaler  # Escalado de características\n",
    "from sklearn.linear_model import LogisticRegression  # Regresión logística\n",
    "from sklearn.tree import DecisionTreeClassifier       # Árbol de decisión\n",
    "from sklearn.svm import SVC                           # Máquinas de vectores de soporte\n",
    "from sklearn.model_selection import GridSearchCV\n",
    "from sklearn.linear_model import LogisticRegression\n",
    "from sklearn.metrics import accuracy_score"
   ]
  },
  {
   "cell_type": "code",
   "execution_count": 2,
   "metadata": {},
   "outputs": [],
   "source": [
    "import sys\n",
    "sys.path.append('C:/Users/medinaj/OneDrive - SierraCol Energy/sierracol_2022/Meli_J/challenge-ml/')"
   ]
  },
  {
   "cell_type": "code",
   "execution_count": 3,
   "metadata": {},
   "outputs": [],
   "source": [
    "from data.raw.new_or_used import build_dataset\n",
    "from data.processed.seller_address_transformer import SellerAddressTransformer\n",
    "from data.processed.shipping_transformer import ShippingTransformer\n",
    "from data.processed.tags_transformer import TagsTransformer\n",
    "from data.processed.payment_methods_transformer import PaymentMethodsTransformer\n",
    "from data.processed.warranty_transformer import WarrantyTransformer"
   ]
  },
  {
   "attachments": {},
   "cell_type": "markdown",
   "metadata": {},
   "source": [
    "## Cargar Dataset"
   ]
  },
  {
   "cell_type": "code",
   "execution_count": 4,
   "metadata": {},
   "outputs": [],
   "source": [
    "# Obtener los datos\n",
    "X_train, y_train, X_test, y_test = build_dataset()\n",
    "\n",
    "# Convertir en dataframes\n",
    "df_X_train = pd.DataFrame(X_train)\n",
    "df_X_test = pd.DataFrame(X_test)\n",
    "df_y_train = pd.DataFrame({\"condition\": y_train})\n",
    "df_y_test = pd.DataFrame({\"condition\": y_test})"
   ]
  },
  {
   "cell_type": "code",
   "execution_count": 5,
   "metadata": {},
   "outputs": [],
   "source": [
    "# Assign 'id' column for df_X_train from 1 to 90,000\n",
    "df_X_train['id'] = range(1, len(df_X_train) + 1)\n",
    "\n",
    "# Assign 'id' column for df_X_test from 1 to 10,000\n",
    "df_X_test['id'] = range(1, len(df_X_test) + 1)\n",
    "\n",
    "\n",
    "# Añadir df_y_test al df_X_test\n",
    "df_X_test['condition'] = df_y_test\n",
    "\n",
    "# Selecting the relevant columns\n",
    "df_nlp = df_X_train[['id', 'condition', 'title']]\n",
    "df_nlp_test = df_X_test[['id', 'condition', 'title']]"
   ]
  },
  {
   "cell_type": "code",
   "execution_count": 6,
   "metadata": {},
   "outputs": [],
   "source": [
    "df_nlp_train_test = pd.concat([df_nlp, df_nlp_test], axis=0)\n",
    "\n",
    "# Add a new column to label each row as either 'train' or 'test'\n",
    "df_nlp_train_test['dataset'] = ['train'] * len(df_nlp) + ['test'] * len(df_nlp_test)\n",
    "\n",
    "# If you want, you can also save the combined dataframe to CSV\n",
    "df_nlp_train_test.to_csv('df_nlp_train_test.csv', sep='|', encoding='utf-8-sig', index=False)"
   ]
  },
  {
   "cell_type": "code",
   "execution_count": 7,
   "metadata": {},
   "outputs": [],
   "source": [
    "df_save_category = pd.read_csv('C:\\\\Users\\\\medinaj\\\\OneDrive - SierraCol Energy\\\\sierracol_2022\\\\Meli_J\\\\challenge-ml\\\\data\\\\processed\\\\df_save.csv', sep='|')"
   ]
  },
  {
   "cell_type": "code",
   "execution_count": 8,
   "metadata": {},
   "outputs": [
    {
     "data": {
      "text/html": [
       "<div>\n",
       "<style scoped>\n",
       "    .dataframe tbody tr th:only-of-type {\n",
       "        vertical-align: middle;\n",
       "    }\n",
       "\n",
       "    .dataframe tbody tr th {\n",
       "        vertical-align: top;\n",
       "    }\n",
       "\n",
       "    .dataframe thead th {\n",
       "        text-align: right;\n",
       "    }\n",
       "</style>\n",
       "<table border=\"1\" class=\"dataframe\">\n",
       "  <thead>\n",
       "    <tr style=\"text-align: right;\">\n",
       "      <th></th>\n",
       "      <th>id</th>\n",
       "      <th>Document</th>\n",
       "      <th>Category</th>\n",
       "      <th>dataset</th>\n",
       "      <th>ClusterLabel</th>\n",
       "    </tr>\n",
       "  </thead>\n",
       "  <tbody>\n",
       "    <tr>\n",
       "      <th>0</th>\n",
       "      <td>1</td>\n",
       "      <td>Auriculares Samsung Originales Manos Libres Ca...</td>\n",
       "      <td>nuevo</td>\n",
       "      <td>train</td>\n",
       "      <td>1</td>\n",
       "    </tr>\n",
       "    <tr>\n",
       "      <th>1</th>\n",
       "      <td>2</td>\n",
       "      <td>Cuchillo Daga Acero Carbón Casco Yelmo Solinge...</td>\n",
       "      <td>usado</td>\n",
       "      <td>train</td>\n",
       "      <td>1</td>\n",
       "    </tr>\n",
       "    <tr>\n",
       "      <th>2</th>\n",
       "      <td>3</td>\n",
       "      <td>Antigua Revista Billiken, N° 1826, Año 1954</td>\n",
       "      <td>usado</td>\n",
       "      <td>train</td>\n",
       "      <td>0</td>\n",
       "    </tr>\n",
       "    <tr>\n",
       "      <th>3</th>\n",
       "      <td>4</td>\n",
       "      <td>Alarma Guardtex Gx412 Seguridad Para El Automo...</td>\n",
       "      <td>nuevo</td>\n",
       "      <td>train</td>\n",
       "      <td>1</td>\n",
       "    </tr>\n",
       "    <tr>\n",
       "      <th>4</th>\n",
       "      <td>5</td>\n",
       "      <td>Serenata - Jennifer Blake</td>\n",
       "      <td>usado</td>\n",
       "      <td>train</td>\n",
       "      <td>0</td>\n",
       "    </tr>\n",
       "  </tbody>\n",
       "</table>\n",
       "</div>"
      ],
      "text/plain": [
       "   id                                           Document Category dataset  \\\n",
       "0   1  Auriculares Samsung Originales Manos Libres Ca...    nuevo   train   \n",
       "1   2  Cuchillo Daga Acero Carbón Casco Yelmo Solinge...    usado   train   \n",
       "2   3        Antigua Revista Billiken, N° 1826, Año 1954    usado   train   \n",
       "3   4  Alarma Guardtex Gx412 Seguridad Para El Automo...    nuevo   train   \n",
       "4   5                          Serenata - Jennifer Blake    usado   train   \n",
       "\n",
       "   ClusterLabel  \n",
       "0             1  \n",
       "1             1  \n",
       "2             0  \n",
       "3             1  \n",
       "4             0  "
      ]
     },
     "execution_count": 8,
     "metadata": {},
     "output_type": "execute_result"
    }
   ],
   "source": [
    "df_save_category.head()"
   ]
  },
  {
   "cell_type": "code",
   "execution_count": 9,
   "metadata": {},
   "outputs": [],
   "source": [
    "# Filtrar df_save_category\n",
    "df_save_category_train = df_save_category[df_save_category['dataset'] == 'train']\n",
    "df_save_category_test = df_save_category[df_save_category['dataset'] == 'test']\n",
    "\n",
    "# Merge con df_X_train\n",
    "df_X_train = pd.merge(df_X_train, df_save_category_train, on='id', how='left')\n",
    "df_X_test = pd.merge(df_X_test, df_save_category_test, on='id', how='left')\n"
   ]
  },
  {
   "attachments": {},
   "cell_type": "markdown",
   "metadata": {},
   "source": [
    "## Limpieza y depuración del dataset"
   ]
  },
  {
   "cell_type": "code",
   "execution_count": 10,
   "metadata": {},
   "outputs": [],
   "source": [
    "def process_dataframe(df):\n",
    "    sat = SellerAddressTransformer()\n",
    "    st = ShippingTransformer()\n",
    "    tt = TagsTransformer()\n",
    "    pmt = PaymentMethodsTransformer()\n",
    "    wt = WarrantyTransformer() \n",
    "    \n",
    "    # Apply transformations and get processed DataFrames\n",
    "    seller_address_normalized = sat.transform(df)\n",
    "    shipping_normalized = st.transform(df)\n",
    "    df = tt.transform(df)\n",
    "    df = pmt.transform(df)\n",
    "    df[\"warranty\"] = df[\"warranty\"].apply(wt.transform)\n",
    "\n",
    "\n",
    "    # Calculo de la columna 'listing_type_id'\n",
    "    mapeo = {'bronze': 'bronze', 'free': 'free', 'silver': 'silver', 'gold_special': 'superior',\n",
    "             'gold': 'superior', 'gold_premium': 'superior', 'gold_pro': 'superior'}\n",
    "    df['listing_type2'] = df['listing_type_id'].replace(mapeo)\n",
    "    df['listing_type'] = df['listing_type2'].replace({'bronze': 1, 'free': 0, 'superior': 3, 'silver': 2})\n",
    "\n",
    "      # Calculo de las columnas de fechas\n",
    "    date_columns = ['last_updated', 'date_created']\n",
    "    for col in date_columns:\n",
    "        df[col] = pd.to_datetime(df[col])\n",
    "        df[col] = df[col].dt.tz_localize(None)\n",
    "        df[f'days_{col}'] = (pd.Timestamp.now().normalize() - df[col].dt.normalize()).dt.days\n",
    "\n",
    "    # Calculo de las columnas de fechas\n",
    "    date_columns = ['stop_time', 'start_time']\n",
    "    for col in date_columns:\n",
    "        df[col] = pd.to_datetime(df[col],format='%Y-%m-%d %H:%M:%S')\n",
    "        df[col] = df[col].dt.tz_localize(None)\n",
    "        df[f'days_{col}'] = (pd.Timestamp.now().normalize() - df[col].dt.normalize()).dt.days\n",
    "\n",
    "    # Calculo de la columna 'dif_vendidos'\n",
    "    df['dif_vendidos'] = df['available_quantity'] - df['sold_quantity']\n",
    "\n",
    "   # Eliminar columnas innecesarias\n",
    "    cols_delete = ['seller_address', 'sub_status', 'deal_ids',\n",
    "       'shipping', 'non_mercado_pago_payment_methods',\n",
    "       'seller_id', 'variations', 'site_id', 'listing_type_id', \n",
    "       'attributes', 'buying_mode', 'tags', 'listing_source', 'parent_item_id',\n",
    "       'coverage_areas', 'category_id', 'descriptions', 'last_updated',\n",
    "       'international_delivery_mode', 'pictures', 'id', 'official_store_id',\n",
    "       'differential_pricing', 'accepts_mercadopago', 'original_price',\n",
    "       'currency_id', 'thumbnail', 'title', 'automatic_relist', 'date_created',\n",
    "       'secure_thumbnail', 'stop_time', 'status', 'video_id',\n",
    "       'catalog_product_id', 'subtitle', 'start_time',\n",
    "       'permalink','listing_type_id','listing_type2','base_price','initial_quantity',\n",
    "       'non_mercado_pago_payment_methods_count2','available_quantity','days_stop_time', 'days_start_time',\n",
    "       'seller_contact', 'location' , 'geolocation', 'Document', 'Category', 'dataset']\n",
    "    \n",
    "    df = df.drop(columns=cols_delete, errors='ignore') \n",
    "\n",
    "    df=pd.concat([df,seller_address_normalized['seller_address_stateid']\n",
    "                      ], axis=1)\n",
    "\n",
    "    return df"
   ]
  },
  {
   "cell_type": "code",
   "execution_count": 11,
   "metadata": {},
   "outputs": [
    {
     "name": "stderr",
     "output_type": "stream",
     "text": [
      "C:\\Users/medinaj/OneDrive - SierraCol Energy/sierracol_2022/Meli_J/challenge-ml\\data\\processed\\tags_transformer.py:6: FutureWarning: The default dtype for empty Series will be 'object' instead of 'float64' in a future version. Specify a dtype explicitly to silence this warning.\n",
      "  expanded_tags = df['tags'].apply(pd.Series).add_suffix('_tags')\n",
      "C:\\Users/medinaj/OneDrive - SierraCol Energy/sierracol_2022/Meli_J/challenge-ml\\data\\processed\\tags_transformer.py:6: FutureWarning: The default dtype for empty Series will be 'object' instead of 'float64' in a future version. Specify a dtype explicitly to silence this warning.\n",
      "  expanded_tags = df['tags'].apply(pd.Series).add_suffix('_tags')\n"
     ]
    }
   ],
   "source": [
    "X_train1 = process_dataframe(df_X_train)\n",
    "X_train1 = X_train1.drop(columns=['condition'])\n",
    "X_test1 = process_dataframe(df_X_test)\n",
    "X_test1 = X_test1.drop(columns=['condition'])"
   ]
  },
  {
   "attachments": {},
   "cell_type": "markdown",
   "metadata": {},
   "source": [
    "## Encoding"
   ]
  },
  {
   "cell_type": "code",
   "execution_count": 12,
   "metadata": {},
   "outputs": [],
   "source": [
    "# Creamos las variables binarias\n",
    "df_dummies = pd.get_dummies(X_train1['seller_address_stateid'], drop_first=True)\n",
    "df_dummies = df_dummies.rename(columns={'AR-C': 'seller_address_stateid_AR-C','OTHER': 'seller_address_stateid_OTHER'})\n",
    "X_train1 = X_train1.drop(columns=['seller_address_stateid'])\n",
    "X_train1 = pd.concat([X_train1,df_dummies],axis=1)"
   ]
  },
  {
   "cell_type": "code",
   "execution_count": 13,
   "metadata": {},
   "outputs": [],
   "source": [
    "# Creamos las variables binarias\n",
    "df_dummies2 = pd.get_dummies(X_test1['seller_address_stateid'], drop_first=True)\n",
    "df_dummies2 = df_dummies2.rename(columns={'AR-C': 'seller_address_stateid_AR-C','OTHER': 'seller_address_stateid_OTHER'})\n",
    "X_test1 = X_test1.drop(columns=['seller_address_stateid'])\n",
    "X_test1 = pd.concat([X_test1,df_dummies2],axis=1)"
   ]
  },
  {
   "attachments": {},
   "cell_type": "markdown",
   "metadata": {},
   "source": [
    "### Estandarización de Variables Numericas"
   ]
  },
  {
   "cell_type": "code",
   "execution_count": 14,
   "metadata": {},
   "outputs": [],
   "source": [
    "num_cols = ['price', 'sold_quantity','non_mercado_pago_payment_methods_count','listing_type',\n",
    "            'days_last_updated', 'days_date_created', 'dif_vendidos',]\n",
    "dum_cols = ['tags_dragged_bids_and_visits','shipping_local_pick_up','shipping_mode_me2',\n",
    "            'seller_address_stateid_AR-C','seller_address_stateid_OTHER']"
   ]
  },
  {
   "cell_type": "code",
   "execution_count": 15,
   "metadata": {},
   "outputs": [],
   "source": [
    "scaler = StandardScaler()\n",
    "X_train1[num_cols] = scaler.fit_transform(X_train1[num_cols])\n",
    "X_test1[num_cols] = scaler.transform(X_test1[num_cols])"
   ]
  },
  {
   "attachments": {},
   "cell_type": "markdown",
   "metadata": {},
   "source": [
    "### Binarizando la variable de respuesta"
   ]
  },
  {
   "cell_type": "code",
   "execution_count": 16,
   "metadata": {},
   "outputs": [],
   "source": [
    "y_train_dummy = pd.get_dummies(df_y_train)\n",
    "y_test_dummy = pd.get_dummies(df_y_test)"
   ]
  },
  {
   "cell_type": "code",
   "execution_count": 17,
   "metadata": {},
   "outputs": [],
   "source": [
    "# Referencia 'condition_new' = 1 --> Nuevo\n",
    "y_train = y_train_dummy['condition_new']\n",
    "y_test = y_test_dummy['condition_new']"
   ]
  },
  {
   "attachments": {},
   "cell_type": "markdown",
   "metadata": {},
   "source": [
    "## Verificación Datos Balanceados"
   ]
  },
  {
   "cell_type": "code",
   "execution_count": 18,
   "metadata": {},
   "outputs": [
    {
     "data": {
      "image/png": "[encoded data removed]",
      "text/plain": [
       "<Figure size 432x288 with 1 Axes>"
      ]
     },
     "metadata": {
      "needs_background": "light"
     },
     "output_type": "display_data"
    }
   ],
   "source": [
    "class_counts = df_y_train['condition'].value_counts()\n",
    "class_percentages = class_counts / len(df_y_train) * 100\n",
    "\n",
    "plt.bar(class_counts.index, class_percentages)\n",
    "plt.xlabel('Clases')\n",
    "plt.ylabel('Porcentaje')\n",
    "plt.title('Distribución de clases')\n",
    "plt.show()"
   ]
  },
  {
   "attachments": {},
   "cell_type": "markdown",
   "metadata": {},
   "source": [
    "Los datos no se encuentran desbalanceados por tanto proseguimos a entrenar un modelo de aprendizaje automatico."
   ]
  },
  {
   "attachments": {},
   "cell_type": "markdown",
   "metadata": {},
   "source": [
    "## Entrenamiento de Modelos"
   ]
  },
  {
   "attachments": {},
   "cell_type": "markdown",
   "metadata": {},
   "source": [
    "## Regresión Logística"
   ]
  },
  {
   "cell_type": "code",
   "execution_count": 19,
   "metadata": {},
   "outputs": [],
   "source": [
    "from ml_model.regression_log import LogisticRegressionModel"
   ]
  },
  {
   "cell_type": "code",
   "execution_count": 20,
   "metadata": {},
   "outputs": [
    {
     "name": "stdout",
     "output_type": "stream",
     "text": [
      "Accuracy (Regresión Logística): 0.78\n"
     ]
    }
   ],
   "source": [
    "# Uso de la clase:\n",
    "logistic_regression_model = LogisticRegressionModel()\n",
    "\n",
    "# Entrenamiento\n",
    "logistic_regression_model.train(X_train1, y_train)\n",
    "\n",
    "# Evaluación\n",
    "accuracy = logistic_regression_model.evaluate(X_test1, y_test)\n",
    "print(\"Accuracy (Regresión Logística): {:.2f}\".format(accuracy))"
   ]
  },
  {
   "attachments": {},
   "cell_type": "markdown",
   "metadata": {},
   "source": [
    "### Nuevo Modelo de Regresión Logística con ajuste de Hiperparámetros"
   ]
  },
  {
   "cell_type": "code",
   "execution_count": 35,
   "metadata": {},
   "outputs": [
    {
     "name": "stderr",
     "output_type": "stream",
     "text": [
      "c:\\Users\\medinaj\\AppData\\Local\\Programs\\Python\\Python38\\lib\\site-packages\\sklearn\\svm\\_base.py:1244: ConvergenceWarning: Liblinear failed to converge, increase the number of iterations.\n",
      "  warnings.warn(\n",
      "c:\\Users\\medinaj\\AppData\\Local\\Programs\\Python\\Python38\\lib\\site-packages\\sklearn\\svm\\_base.py:1244: ConvergenceWarning: Liblinear failed to converge, increase the number of iterations.\n",
      "  warnings.warn(\n",
      "c:\\Users\\medinaj\\AppData\\Local\\Programs\\Python\\Python38\\lib\\site-packages\\sklearn\\svm\\_base.py:1244: ConvergenceWarning: Liblinear failed to converge, increase the number of iterations.\n",
      "  warnings.warn(\n",
      "c:\\Users\\medinaj\\AppData\\Local\\Programs\\Python\\Python38\\lib\\site-packages\\sklearn\\svm\\_base.py:1244: ConvergenceWarning: Liblinear failed to converge, increase the number of iterations.\n",
      "  warnings.warn(\n",
      "c:\\Users\\medinaj\\AppData\\Local\\Programs\\Python\\Python38\\lib\\site-packages\\sklearn\\svm\\_base.py:1244: ConvergenceWarning: Liblinear failed to converge, increase the number of iterations.\n",
      "  warnings.warn(\n",
      "c:\\Users\\medinaj\\AppData\\Local\\Programs\\Python\\Python38\\lib\\site-packages\\sklearn\\linear_model\\_sag.py:350: ConvergenceWarning: The max_iter was reached which means the coef_ did not converge\n",
      "  warnings.warn(\n",
      "c:\\Users\\medinaj\\AppData\\Local\\Programs\\Python\\Python38\\lib\\site-packages\\sklearn\\linear_model\\_sag.py:350: ConvergenceWarning: The max_iter was reached which means the coef_ did not converge\n",
      "  warnings.warn(\n",
      "c:\\Users\\medinaj\\AppData\\Local\\Programs\\Python\\Python38\\lib\\site-packages\\sklearn\\linear_model\\_sag.py:350: ConvergenceWarning: The max_iter was reached which means the coef_ did not converge\n",
      "  warnings.warn(\n",
      "c:\\Users\\medinaj\\AppData\\Local\\Programs\\Python\\Python38\\lib\\site-packages\\sklearn\\linear_model\\_sag.py:350: ConvergenceWarning: The max_iter was reached which means the coef_ did not converge\n",
      "  warnings.warn(\n",
      "c:\\Users\\medinaj\\AppData\\Local\\Programs\\Python\\Python38\\lib\\site-packages\\sklearn\\linear_model\\_sag.py:350: ConvergenceWarning: The max_iter was reached which means the coef_ did not converge\n",
      "  warnings.warn(\n",
      "c:\\Users\\medinaj\\AppData\\Local\\Programs\\Python\\Python38\\lib\\site-packages\\sklearn\\linear_model\\_sag.py:350: ConvergenceWarning: The max_iter was reached which means the coef_ did not converge\n",
      "  warnings.warn(\n",
      "c:\\Users\\medinaj\\AppData\\Local\\Programs\\Python\\Python38\\lib\\site-packages\\sklearn\\linear_model\\_sag.py:350: ConvergenceWarning: The max_iter was reached which means the coef_ did not converge\n",
      "  warnings.warn(\n",
      "c:\\Users\\medinaj\\AppData\\Local\\Programs\\Python\\Python38\\lib\\site-packages\\sklearn\\linear_model\\_sag.py:350: ConvergenceWarning: The max_iter was reached which means the coef_ did not converge\n",
      "  warnings.warn(\n",
      "c:\\Users\\medinaj\\AppData\\Local\\Programs\\Python\\Python38\\lib\\site-packages\\sklearn\\linear_model\\_sag.py:350: ConvergenceWarning: The max_iter was reached which means the coef_ did not converge\n",
      "  warnings.warn(\n",
      "c:\\Users\\medinaj\\AppData\\Local\\Programs\\Python\\Python38\\lib\\site-packages\\sklearn\\linear_model\\_sag.py:350: ConvergenceWarning: The max_iter was reached which means the coef_ did not converge\n",
      "  warnings.warn(\n",
      "c:\\Users\\medinaj\\AppData\\Local\\Programs\\Python\\Python38\\lib\\site-packages\\sklearn\\svm\\_base.py:1244: ConvergenceWarning: Liblinear failed to converge, increase the number of iterations.\n",
      "  warnings.warn(\n",
      "c:\\Users\\medinaj\\AppData\\Local\\Programs\\Python\\Python38\\lib\\site-packages\\sklearn\\svm\\_base.py:1244: ConvergenceWarning: Liblinear failed to converge, increase the number of iterations.\n",
      "  warnings.warn(\n",
      "c:\\Users\\medinaj\\AppData\\Local\\Programs\\Python\\Python38\\lib\\site-packages\\sklearn\\svm\\_base.py:1244: ConvergenceWarning: Liblinear failed to converge, increase the number of iterations.\n",
      "  warnings.warn(\n",
      "c:\\Users\\medinaj\\AppData\\Local\\Programs\\Python\\Python38\\lib\\site-packages\\sklearn\\svm\\_base.py:1244: ConvergenceWarning: Liblinear failed to converge, increase the number of iterations.\n",
      "  warnings.warn(\n",
      "c:\\Users\\medinaj\\AppData\\Local\\Programs\\Python\\Python38\\lib\\site-packages\\sklearn\\svm\\_base.py:1244: ConvergenceWarning: Liblinear failed to converge, increase the number of iterations.\n",
      "  warnings.warn(\n",
      "c:\\Users\\medinaj\\AppData\\Local\\Programs\\Python\\Python38\\lib\\site-packages\\sklearn\\linear_model\\_sag.py:350: ConvergenceWarning: The max_iter was reached which means the coef_ did not converge\n",
      "  warnings.warn(\n",
      "c:\\Users\\medinaj\\AppData\\Local\\Programs\\Python\\Python38\\lib\\site-packages\\sklearn\\linear_model\\_sag.py:350: ConvergenceWarning: The max_iter was reached which means the coef_ did not converge\n",
      "  warnings.warn(\n",
      "c:\\Users\\medinaj\\AppData\\Local\\Programs\\Python\\Python38\\lib\\site-packages\\sklearn\\linear_model\\_sag.py:350: ConvergenceWarning: The max_iter was reached which means the coef_ did not converge\n",
      "  warnings.warn(\n",
      "c:\\Users\\medinaj\\AppData\\Local\\Programs\\Python\\Python38\\lib\\site-packages\\sklearn\\linear_model\\_sag.py:350: ConvergenceWarning: The max_iter was reached which means the coef_ did not converge\n",
      "  warnings.warn(\n",
      "c:\\Users\\medinaj\\AppData\\Local\\Programs\\Python\\Python38\\lib\\site-packages\\sklearn\\linear_model\\_sag.py:350: ConvergenceWarning: The max_iter was reached which means the coef_ did not converge\n",
      "  warnings.warn(\n",
      "c:\\Users\\medinaj\\AppData\\Local\\Programs\\Python\\Python38\\lib\\site-packages\\sklearn\\svm\\_base.py:1244: ConvergenceWarning: Liblinear failed to converge, increase the number of iterations.\n",
      "  warnings.warn(\n",
      "c:\\Users\\medinaj\\AppData\\Local\\Programs\\Python\\Python38\\lib\\site-packages\\sklearn\\linear_model\\_sag.py:350: ConvergenceWarning: The max_iter was reached which means the coef_ did not converge\n",
      "  warnings.warn(\n",
      "c:\\Users\\medinaj\\AppData\\Local\\Programs\\Python\\Python38\\lib\\site-packages\\sklearn\\linear_model\\_sag.py:350: ConvergenceWarning: The max_iter was reached which means the coef_ did not converge\n",
      "  warnings.warn(\n",
      "c:\\Users\\medinaj\\AppData\\Local\\Programs\\Python\\Python38\\lib\\site-packages\\sklearn\\linear_model\\_sag.py:350: ConvergenceWarning: The max_iter was reached which means the coef_ did not converge\n",
      "  warnings.warn(\n",
      "c:\\Users\\medinaj\\AppData\\Local\\Programs\\Python\\Python38\\lib\\site-packages\\sklearn\\linear_model\\_sag.py:350: ConvergenceWarning: The max_iter was reached which means the coef_ did not converge\n",
      "  warnings.warn(\n",
      "c:\\Users\\medinaj\\AppData\\Local\\Programs\\Python\\Python38\\lib\\site-packages\\sklearn\\linear_model\\_sag.py:350: ConvergenceWarning: The max_iter was reached which means the coef_ did not converge\n",
      "  warnings.warn(\n",
      "c:\\Users\\medinaj\\AppData\\Local\\Programs\\Python\\Python38\\lib\\site-packages\\sklearn\\svm\\_base.py:1244: ConvergenceWarning: Liblinear failed to converge, increase the number of iterations.\n",
      "  warnings.warn(\n"
     ]
    }
   ],
   "source": [
    "# Definir los hiperparámetros a ajustar y sus posibles valores\n",
    "#param_grid = {\n",
    "#    'C': [0.1, 1, 10],\n",
    "#    'penalty': ['l1', 'l2'],\n",
    "#    'solver': ['liblinear', 'saga']\n",
    "#}\n",
    "\n",
    "# Realizar la búsqueda exhaustiva de cuadrícula (Grid Search)\n",
    "#grid_search = GridSearchCV(estimator=logistic_regression, param_grid=param_grid, cv=5, scoring='accuracy')\n",
    "#grid_search.fit(X_train1, y_train)\n",
    "\n",
    "# Obtener los mejores hiperparámetros y el mejor modelo\n",
    "#best_params = grid_search.best_params_\n",
    "#best_model = grid_search.best_estimator_\n",
    "\n",
    "# Realizar predicciones en el conjunto de prueba utilizando el mejor modelo\n",
    "#y_pred = best_model.predict(X_test1)\n",
    "\n",
    "# Calcular la precisión del modelo\n",
    "#accuracy = accuracy_score(y_test, y_pred)\n",
    "#print(\"Precisión:\", accuracy)\n",
    "\n",
    "# Imprimir los mejores hiperparámetros encontrados\n",
    "#print(\"Mejores hiperparámetros:\", best_params)"
   ]
  },
  {
   "cell_type": "code",
   "execution_count": null,
   "metadata": {},
   "outputs": [],
   "source": [
    "# Definir los hiperparámetros a ajustar y sus posibles valores\n",
    "#param_grid = {\n",
    "#    'C': [0.1, 1, 10],\n",
    "#    'penalty': ['l1', 'l2'],\n",
    "#    'solver': ['liblinear', 'saga']\n",
    "#}\n",
    "\n",
    "# Crear una instancia del modelo de regresión logística\n",
    "#logistic_regression = LogisticRegression(max_iter=1000)\n",
    "\n",
    "# Realizar la búsqueda exhaustiva de cuadrícula (Grid Search)\n",
    "#grid_search = GridSearchCV(estimator=logistic_regression, param_grid=param_grid, cv=5, scoring='accuracy')\n",
    "\n",
    "# Ajustar el modelo con la búsqueda de cuadrícula\n",
    "#grid_search.fit(X_train1, y_train)  # Reemplaza X e y con tus datos de entrenamiento\n",
    "\n",
    "# Imprimir los mejores hiperparámetros encontrados\n",
    "#print(\"Mejores hiperparámetros encontrados:\")\n",
    "#print(grid_search.best_params_)\n",
    "\n",
    "# Imprimir la mejor puntuación obtenida\n",
    "#print(\"Mejor puntuación del modelo:\")\n",
    "#print(grid_search.best_score_)"
   ]
  },
  {
   "cell_type": "markdown",
   "metadata": {},
   "source": [
    "Este modelo no corrio."
   ]
  },
  {
   "attachments": {},
   "cell_type": "markdown",
   "metadata": {},
   "source": [
    "### Eliminación recursiva de variables en Regresión Logística"
   ]
  },
  {
   "cell_type": "code",
   "execution_count": 42,
   "metadata": {},
   "outputs": [
    {
     "name": "stdout",
     "output_type": "stream",
     "text": [
      "Características seleccionadas:\n",
      "Index(['sold_quantity', 'listing_type', 'dif_vendidos',\n",
      "       'shipping_local_pick_up', 'seller_address_stateid_OTHER'],\n",
      "      dtype='object')\n"
     ]
    }
   ],
   "source": [
    "# Crear el modelo de regresión logística\n",
    "#model3 = LogisticRegression()\n",
    "\n",
    "# Crear el objeto RFE y especificar el número de características a seleccionar\n",
    "#rfe = RFE(estimator=model3, n_features_to_select=5)  # Ajusta el valor de n_features_to_select según tus necesidades\n",
    "\n",
    "# Aplicar la Eliminación Recursiva de Características\n",
    "#rfe.fit(X_train1, y_train)\n",
    "\n",
    "# Obtener las características seleccionadas\n",
    "#selected_features = X_train1.columns[rfe.support_]\n",
    "\n",
    "# Imprimir las características seleccionadas\n",
    "#print(\"Características seleccionadas:\")\n",
    "#print(selected_features)"
   ]
  },
  {
   "attachments": {},
   "cell_type": "markdown",
   "metadata": {},
   "source": [
    "### Ajustar nuevamente un modelo de Regresión Logística"
   ]
  },
  {
   "cell_type": "code",
   "execution_count": 44,
   "metadata": {},
   "outputs": [
    {
     "name": "stdout",
     "output_type": "stream",
     "text": [
      "Precisión: 0.7234\n",
      "Precisión: 0.6887871853546911\n",
      "Recall: 0.8908620051794303\n",
      "F1-score: 0.7768994999193419\n"
     ]
    }
   ],
   "source": [
    "# Crear el modelo de regresión logística\n",
    "#model_red1 = LogisticRegression()\n",
    "\n",
    "# Entrenar el modelo utilizando solo las características seleccionadas\n",
    "#model_red1.fit(X_train1[selected_features], y_train)\n",
    "\n",
    "# Realizar predicciones en el conjunto de prueba utilizando solo las características seleccionadas\n",
    "#y_pred = model_red1.predict(X_test1[selected_features])\n",
    "\n",
    "# Calcular las métricas del modelo\n",
    "#accuracy = accuracy_score(y_test, y_pred)\n",
    "#precision = precision_score(y_test, y_pred)\n",
    "#recall = recall_score(y_test, y_pred)\n",
    "#f1 = f1_score(y_test, y_pred)\n",
    "\n",
    "# Imprimir las métricas del modelo\n",
    "#print(\"Precisión:\", accuracy)\n",
    "#print(\"Precisión:\", precision)\n",
    "#print(\"Recall:\", recall)\n",
    "#print(\"F1-score:\", f1)"
   ]
  },
  {
   "cell_type": "code",
   "execution_count": 27,
   "metadata": {},
   "outputs": [],
   "source": [
    "# Crear el modelo\n",
    "#logistic_regression = LogisticRegression()\n",
    "\n",
    "# Entrenar el modelo\n",
    "#logistic_regression.fit(X_train2, y_train)\n",
    "\n",
    "# Evaluar el modelo\n",
    "#accuracy = logistic_regression.score(X_test2, y_test)\n",
    "#print(\"Accuracy (Regresión Logística): {:.2f}\".format(accuracy))"
   ]
  },
  {
   "attachments": {},
   "cell_type": "markdown",
   "metadata": {},
   "source": [
    "El mejor modelo de regresión logística encontrado fue de un accuracy de 0.78"
   ]
  },
  {
   "attachments": {},
   "cell_type": "markdown",
   "metadata": {},
   "source": [
    "## Decision Tree"
   ]
  },
  {
   "cell_type": "code",
   "execution_count": 21,
   "metadata": {},
   "outputs": [
    {
     "name": "stdout",
     "output_type": "stream",
     "text": [
      "Accuracy (Árboles de Decisión): 0.80\n"
     ]
    }
   ],
   "source": [
    "# Crear el modelo\n",
    "decision_tree = DecisionTreeClassifier()\n",
    "\n",
    "# Entrenar el modelo\n",
    "decision_tree.fit(X_train1, y_train)\n",
    "\n",
    "# Evaluar el modelo\n",
    "accuracy = decision_tree.score(X_test1, y_test)\n",
    "print(\"Accuracy (Árboles de Decisión): {:.2f}\".format(accuracy))"
   ]
  },
  {
   "attachments": {},
   "cell_type": "markdown",
   "metadata": {},
   "source": [
    "## Random Forest"
   ]
  },
  {
   "cell_type": "code",
   "execution_count": 22,
   "metadata": {},
   "outputs": [
    {
     "name": "stdout",
     "output_type": "stream",
     "text": [
      "Accuracy (Random Forest): 0.85\n"
     ]
    }
   ],
   "source": [
    "from sklearn.ensemble import RandomForestClassifier\n",
    "\n",
    "model = RandomForestClassifier()\n",
    "model.fit(X_train1, y_train)\n",
    "y_pred = model.predict(X_test1)\n",
    "# Calcular la precisión del modelo\n",
    "accuracy = accuracy_score(y_test, y_pred)\n",
    "print(\"Accuracy (Random Forest): {:.2f}\".format(accuracy))"
   ]
  },
  {
   "attachments": {},
   "cell_type": "markdown",
   "metadata": {},
   "source": [
    "## XGBoost Classifier"
   ]
  },
  {
   "cell_type": "code",
   "execution_count": 23,
   "metadata": {},
   "outputs": [
    {
     "name": "stdout",
     "output_type": "stream",
     "text": [
      "Accuracy (XGBoost Classifier): 0.86\n"
     ]
    }
   ],
   "source": [
    "# Crear el clasificador de XGBoost\n",
    "model = xgb.XGBClassifier()\n",
    "\n",
    "# Entrenar el modelo\n",
    "model.fit(X_train1, y_train)\n",
    "\n",
    "# Realizar predicciones en el conjunto de prueba\n",
    "y_pred = model.predict(X_test1)\n",
    "\n",
    "# Calcular la precisión del modelo\n",
    "accuracy = accuracy_score(y_test, y_pred)\n",
    "print(\"Accuracy (XGBoost Classifier): {:.2f}\".format(accuracy))"
   ]
  },
  {
   "attachments": {},
   "cell_type": "markdown",
   "metadata": {},
   "source": [
    "Como el resultado del algoritmo XGBoost es el más cercano al accuracy buscado, nos quedamos con este método y realizamos una busqueda de hiperparametros optimos:"
   ]
  },
  {
   "cell_type": "code",
   "execution_count": 24,
   "metadata": {},
   "outputs": [
    {
     "name": "stdout",
     "output_type": "stream",
     "text": [
      "Precisión del modelo con los mejores hiperparámetros (XGBoost Classifier): 0.86\n"
     ]
    }
   ],
   "source": [
    "from sklearn.model_selection import RandomizedSearchCV\n",
    "import xgboost as xgb\n",
    "from scipy.stats import uniform, randint\n",
    "\n",
    "# Definir los rangos de valores para los hiperparámetros a ajustar\n",
    "param_dist = {\n",
    "    'learning_rate': uniform(0.01, 0.3),\n",
    "    'max_depth': randint(3, 10),\n",
    "    'n_estimators': randint(100, 500),\n",
    "}\n",
    "\n",
    "# Crear el clasificador de XGBoost\n",
    "model = xgb.XGBClassifier()\n",
    "\n",
    "# Realizar la búsqueda aleatoria\n",
    "random_search = RandomizedSearchCV(\n",
    "    estimator=model,\n",
    "    param_distributions=param_dist,\n",
    "    scoring='accuracy',\n",
    "    n_iter=10,\n",
    "    cv=5,\n",
    "    random_state=42\n",
    ")\n",
    "random_search.fit(X_train1, y_train)\n",
    "\n",
    "# Obtener los mejores hiperparámetros y el mejor modelo\n",
    "best_params = random_search.best_params_\n",
    "best_model = random_search.best_estimator_\n",
    "\n",
    "# Realizar predicciones en el conjunto de prueba\n",
    "y_pred = best_model.predict(X_test1)\n",
    "\n",
    "# Calcular la precisión del modelo\n",
    "accuracy = accuracy_score(y_test, y_pred)\n",
    "print(\"Precisión del modelo con los mejores hiperparámetros (XGBoost Classifier): {:.2f}\".format(accuracy))"
   ]
  },
  {
   "attachments": {},
   "cell_type": "markdown",
   "metadata": {},
   "source": [
    "Este fue el mejor modelo de todos los evaluados."
   ]
  },
  {
   "cell_type": "code",
   "execution_count": 25,
   "metadata": {},
   "outputs": [
    {
     "data": {
      "text/html": [
       "<style>#sk-container-id-1 {color: black;background-color: white;}#sk-container-id-1 pre{padding: 0;}#sk-container-id-1 div.sk-toggleable {background-color: white;}#sk-container-id-1 label.sk-toggleable__label {cursor: pointer;display: block;width: 100%;margin-bottom: 0;padding: 0.3em;box-sizing: border-box;text-align: center;}#sk-container-id-1 label.sk-toggleable__label-arrow:before {content: \"▸\";float: left;margin-right: 0.25em;color: #696969;}#sk-container-id-1 label.sk-toggleable__label-arrow:hover:before {color: black;}#sk-container-id-1 div.sk-estimator:hover label.sk-toggleable__label-arrow:before {color: black;}#sk-container-id-1 div.sk-toggleable__content {max-height: 0;max-width: 0;overflow: hidden;text-align: left;background-color: #f0f8ff;}#sk-container-id-1 div.sk-toggleable__content pre {margin: 0.2em;color: black;border-radius: 0.25em;background-color: #f0f8ff;}#sk-container-id-1 input.sk-toggleable__control:checked~div.sk-toggleable__content {max-height: 200px;max-width: 100%;overflow: auto;}#sk-container-id-1 input.sk-toggleable__control:checked~label.sk-toggleable__label-arrow:before {content: \"▾\";}#sk-container-id-1 div.sk-estimator input.sk-toggleable__control:checked~label.sk-toggleable__label {background-color: #d4ebff;}#sk-container-id-1 div.sk-label input.sk-toggleable__control:checked~label.sk-toggleable__label {background-color: #d4ebff;}#sk-container-id-1 input.sk-hidden--visually {border: 0;clip: rect(1px 1px 1px 1px);clip: rect(1px, 1px, 1px, 1px);height: 1px;margin: -1px;overflow: hidden;padding: 0;position: absolute;width: 1px;}#sk-container-id-1 div.sk-estimator {font-family: monospace;background-color: #f0f8ff;border: 1px dotted black;border-radius: 0.25em;box-sizing: border-box;margin-bottom: 0.5em;}#sk-container-id-1 div.sk-estimator:hover {background-color: #d4ebff;}#sk-container-id-1 div.sk-parallel-item::after {content: \"\";width: 100%;border-bottom: 1px solid gray;flex-grow: 1;}#sk-container-id-1 div.sk-label:hover label.sk-toggleable__label {background-color: #d4ebff;}#sk-container-id-1 div.sk-serial::before {content: \"\";position: absolute;border-left: 1px solid gray;box-sizing: border-box;top: 0;bottom: 0;left: 50%;z-index: 0;}#sk-container-id-1 div.sk-serial {display: flex;flex-direction: column;align-items: center;background-color: white;padding-right: 0.2em;padding-left: 0.2em;position: relative;}#sk-container-id-1 div.sk-item {position: relative;z-index: 1;}#sk-container-id-1 div.sk-parallel {display: flex;align-items: stretch;justify-content: center;background-color: white;position: relative;}#sk-container-id-1 div.sk-item::before, #sk-container-id-1 div.sk-parallel-item::before {content: \"\";position: absolute;border-left: 1px solid gray;box-sizing: border-box;top: 0;bottom: 0;left: 50%;z-index: -1;}#sk-container-id-1 div.sk-parallel-item {display: flex;flex-direction: column;z-index: 1;position: relative;background-color: white;}#sk-container-id-1 div.sk-parallel-item:first-child::after {align-self: flex-end;width: 50%;}#sk-container-id-1 div.sk-parallel-item:last-child::after {align-self: flex-start;width: 50%;}#sk-container-id-1 div.sk-parallel-item:only-child::after {width: 0;}#sk-container-id-1 div.sk-dashed-wrapped {border: 1px dashed gray;margin: 0 0.4em 0.5em 0.4em;box-sizing: border-box;padding-bottom: 0.4em;background-color: white;}#sk-container-id-1 div.sk-label label {font-family: monospace;font-weight: bold;display: inline-block;line-height: 1.2em;}#sk-container-id-1 div.sk-label-container {text-align: center;}#sk-container-id-1 div.sk-container {/* jupyter's `normalize.less` sets `[hidden] { display: none; }` but bootstrap.min.css set `[hidden] { display: none !important; }` so we also need the `!important` here to be able to override the default hidden behavior on the sphinx rendered scikit-learn.org. See: https://github.com/scikit-learn/scikit-learn/issues/21755 */display: inline-block !important;position: relative;}#sk-container-id-1 div.sk-text-repr-fallback {display: none;}</style><div id=\"sk-container-id-1\" class=\"sk-top-container\"><div class=\"sk-text-repr-fallback\"><pre>XGBClassifier(base_score=None, booster=None, callbacks=None,\n",
       "              colsample_bylevel=None, colsample_bynode=None,\n",
       "              colsample_bytree=None, device=None, early_stopping_rounds=None,\n",
       "              enable_categorical=False, eval_metric=None, feature_types=None,\n",
       "              gamma=None, grow_policy=None, importance_type=None,\n",
       "              interaction_constraints=None, learning_rate=None, max_bin=None,\n",
       "              max_cat_threshold=None, max_cat_to_onehot=None,\n",
       "              max_delta_step=None, max_depth=None, max_leaves=None,\n",
       "              min_child_weight=None, missing=nan, monotone_constraints=None,\n",
       "              multi_strategy=None, n_estimators=None, n_jobs=None,\n",
       "              num_parallel_tree=None, random_state=None, ...)</pre><b>In a Jupyter environment, please rerun this cell to show the HTML representation or trust the notebook. <br />On GitHub, the HTML representation is unable to render, please try loading this page with nbviewer.org.</b></div><div class=\"sk-container\" hidden><div class=\"sk-item\"><div class=\"sk-estimator sk-toggleable\"><input class=\"sk-toggleable__control sk-hidden--visually\" id=\"sk-estimator-id-1\" type=\"checkbox\" checked><label for=\"sk-estimator-id-1\" class=\"sk-toggleable__label sk-toggleable__label-arrow\">XGBClassifier</label><div class=\"sk-toggleable__content\"><pre>XGBClassifier(base_score=None, booster=None, callbacks=None,\n",
       "              colsample_bylevel=None, colsample_bynode=None,\n",
       "              colsample_bytree=None, device=None, early_stopping_rounds=None,\n",
       "              enable_categorical=False, eval_metric=None, feature_types=None,\n",
       "              gamma=None, grow_policy=None, importance_type=None,\n",
       "              interaction_constraints=None, learning_rate=None, max_bin=None,\n",
       "              max_cat_threshold=None, max_cat_to_onehot=None,\n",
       "              max_delta_step=None, max_depth=None, max_leaves=None,\n",
       "              min_child_weight=None, missing=nan, monotone_constraints=None,\n",
       "              multi_strategy=None, n_estimators=None, n_jobs=None,\n",
       "              num_parallel_tree=None, random_state=None, ...)</pre></div></div></div></div></div>"
      ],
      "text/plain": [
       "XGBClassifier(base_score=None, booster=None, callbacks=None,\n",
       "              colsample_bylevel=None, colsample_bynode=None,\n",
       "              colsample_bytree=None, device=None, early_stopping_rounds=None,\n",
       "              enable_categorical=False, eval_metric=None, feature_types=None,\n",
       "              gamma=None, grow_policy=None, importance_type=None,\n",
       "              interaction_constraints=None, learning_rate=None, max_bin=None,\n",
       "              max_cat_threshold=None, max_cat_to_onehot=None,\n",
       "              max_delta_step=None, max_depth=None, max_leaves=None,\n",
       "              min_child_weight=None, missing=nan, monotone_constraints=None,\n",
       "              multi_strategy=None, n_estimators=None, n_jobs=None,\n",
       "              num_parallel_tree=None, random_state=None, ...)"
      ]
     },
     "execution_count": 25,
     "metadata": {},
     "output_type": "execute_result"
    }
   ],
   "source": [
    "model.fit(X_train1, y_train)"
   ]
  },
  {
   "attachments": {},
   "cell_type": "markdown",
   "metadata": {},
   "source": [
    "Validamos la importancia de cada variable en el modelo:"
   ]
  },
  {
   "cell_type": "code",
   "execution_count": 26,
   "metadata": {},
   "outputs": [
    {
     "name": "stdout",
     "output_type": "stream",
     "text": [
      "Variable: warranty, Importancia: 0.037722114473581314\n",
      "Variable: price, Importancia: 0.021380025893449783\n",
      "Variable: sold_quantity, Importancia: 0.16401046514511108\n",
      "Variable: ClusterLabel, Importancia: 0.13073399662971497\n",
      "Variable: shipping_local_pick_up, Importancia: 0.008248550817370415\n",
      "Variable: shipping_mode_me2, Importancia: 0.01954195834696293\n",
      "Variable: tags_dragged_bids_and_visits, Importancia: 0.03108026087284088\n",
      "Variable: non_mercado_pago_payment_methods_count, Importancia: 0.011693105101585388\n",
      "Variable: listing_type, Importancia: 0.3648748993873596\n",
      "Variable: days_last_updated, Importancia: 0.006582980044186115\n",
      "Variable: days_date_created, Importancia: 0.007110270671546459\n",
      "Variable: dif_vendidos, Importancia: 0.18060441315174103\n",
      "Variable: seller_address_stateid_AR-C, Importancia: 0.007777045946568251\n",
      "Variable: seller_address_stateid_OTHER, Importancia: 0.008639848791062832\n"
     ]
    }
   ],
   "source": [
    "importance_scores = model.feature_importances_\n",
    "variables = X_train1.columns\n",
    "# Asociar cada variable con su valor de importancia\n",
    "variable_importance = zip(variables, importance_scores)\n",
    "\n",
    "# Imprimir la asociación entre variables y valores de importancia\n",
    "for variable, importance in variable_importance:\n",
    "    print(f'Variable: {variable}, Importancia: {importance}')"
   ]
  },
  {
   "attachments": {},
   "cell_type": "markdown",
   "metadata": {},
   "source": [
    "Como se observa que las variables: seller_address_stateid_AR-C y seller_address_stateid_OTHER, days_last_updated, days_date_created tienen una importancia relativamente baja, se valida como queda el modelamiento con estos ajustes."
   ]
  },
  {
   "cell_type": "code",
   "execution_count": 27,
   "metadata": {},
   "outputs": [
    {
     "data": {
      "text/plain": [
       "Index(['warranty', 'price', 'sold_quantity', 'ClusterLabel',\n",
       "       'shipping_local_pick_up', 'shipping_mode_me2',\n",
       "       'tags_dragged_bids_and_visits',\n",
       "       'non_mercado_pago_payment_methods_count', 'listing_type',\n",
       "       'days_last_updated', 'days_date_created', 'dif_vendidos',\n",
       "       'seller_address_stateid_AR-C', 'seller_address_stateid_OTHER'],\n",
       "      dtype='object')"
      ]
     },
     "execution_count": 27,
     "metadata": {},
     "output_type": "execute_result"
    }
   ],
   "source": [
    "X_train1.columns"
   ]
  },
  {
   "attachments": {},
   "cell_type": "markdown",
   "metadata": {},
   "source": [
    "### XGBoost Classifier (Eliminando variables de menos importancia)"
   ]
  },
  {
   "cell_type": "code",
   "execution_count": 28,
   "metadata": {},
   "outputs": [],
   "source": [
    "X_train2 = X_train1.drop(columns=['seller_address_stateid_AR-C',\n",
    "                                  'seller_address_stateid_OTHER',\n",
    "                                  'days_last_updated',\n",
    "                                  'days_date_created',\n",
    "                                  'shipping_local_pick_up'])"
   ]
  },
  {
   "cell_type": "code",
   "execution_count": 29,
   "metadata": {},
   "outputs": [],
   "source": [
    "X_test2 = X_test1.drop(columns=['seller_address_stateid_AR-C',\n",
    "                                  'seller_address_stateid_OTHER',\n",
    "                                  'days_last_updated',\n",
    "                                  'days_date_created',\n",
    "                                  'shipping_local_pick_up'])"
   ]
  },
  {
   "cell_type": "code",
   "execution_count": 30,
   "metadata": {},
   "outputs": [
    {
     "name": "stdout",
     "output_type": "stream",
     "text": [
      "Precisión del modelo con los mejores hiperparámetros (XGBoost Classifier): 0.86\n"
     ]
    }
   ],
   "source": [
    "from sklearn.model_selection import RandomizedSearchCV\n",
    "import xgboost as xgb\n",
    "from scipy.stats import uniform, randint\n",
    "\n",
    "# Definir los rangos de valores para los hiperparámetros a ajustar\n",
    "param_dist2 = {\n",
    "    'learning_rate': uniform(0.01, 0.3),\n",
    "    'max_depth': randint(3, 10),\n",
    "    'n_estimators': randint(100, 500),\n",
    "}\n",
    "\n",
    "# Crear el clasificador de XGBoost\n",
    "model2 = xgb.XGBClassifier()\n",
    "\n",
    "# Realizar la búsqueda aleatoria\n",
    "random_search2 = RandomizedSearchCV(\n",
    "    estimator=model2,\n",
    "    param_distributions=param_dist2,\n",
    "    scoring='accuracy',\n",
    "    n_iter=10,\n",
    "    cv=5,\n",
    "    random_state=42\n",
    ")\n",
    "random_search2.fit(X_train2, y_train)\n",
    "\n",
    "# Obtener los mejores hiperparámetros y el mejor modelo\n",
    "best_params2 = random_search2.best_params_\n",
    "best_model2 = random_search2.best_estimator_\n",
    "\n",
    "# Realizar predicciones en el conjunto de prueba\n",
    "y_pred2 = best_model2.predict(X_test2)\n",
    "\n",
    "# Calcular la precisión del modelo\n",
    "accuracy2 = accuracy_score(y_test, y_pred)\n",
    "print(\"Precisión del modelo con los mejores hiperparámetros (XGBoost Classifier): {:.2f}\".format(accuracy2))"
   ]
  },
  {
   "cell_type": "code",
   "execution_count": 31,
   "metadata": {},
   "outputs": [
    {
     "name": "stdout",
     "output_type": "stream",
     "text": [
      "Variable: warranty, Importancia: 0.048690278083086014\n",
      "Variable: price, Importancia: 0.030853739008307457\n",
      "Variable: sold_quantity, Importancia: 0.13232780992984772\n",
      "Variable: ClusterLabel, Importancia: 0.1467839777469635\n",
      "Variable: shipping_mode_me2, Importancia: 0.02232552319765091\n",
      "Variable: tags_dragged_bids_and_visits, Importancia: 0.03974030539393425\n",
      "Variable: non_mercado_pago_payment_methods_count, Importancia: 0.011028752662241459\n",
      "Variable: listing_type, Importancia: 0.3852717876434326\n",
      "Variable: dif_vendidos, Importancia: 0.18297776579856873\n"
     ]
    }
   ],
   "source": [
    "model2.fit(X_train2, y_train)\n",
    "\n",
    "importance_scores = model2.feature_importances_\n",
    "variables = X_train2.columns\n",
    "# Asociar cada variable con su valor de importancia\n",
    "variable_importance = zip(variables, importance_scores)\n",
    "\n",
    "# Imprimir la asociación entre variables y valores de importancia\n",
    "for variable, importance in variable_importance:\n",
    "    print(f'Variable: {variable}, Importancia: {importance}')"
   ]
  },
  {
   "cell_type": "code",
   "execution_count": 32,
   "metadata": {},
   "outputs": [],
   "source": [
    "X_train2 = X_train1.drop(columns=['seller_address_stateid_AR-C',\n",
    "                                  'seller_address_stateid_OTHER',\n",
    "                                  'days_last_updated',\n",
    "                                  'days_date_created',\n",
    "                                  'shipping_local_pick_up'])\n",
    "X_test2 = X_test1.drop(columns=['seller_address_stateid_AR-C',\n",
    "                                  'seller_address_stateid_OTHER',\n",
    "                                  'days_last_updated',\n",
    "                                  'days_date_created',\n",
    "                                  'shipping_local_pick_up'])"
   ]
  },
  {
   "attachments": {},
   "cell_type": "markdown",
   "metadata": {},
   "source": [
    "### Evaluando multiples modelos"
   ]
  },
  {
   "cell_type": "code",
   "execution_count": 2,
   "metadata": {},
   "outputs": [],
   "source": [
    "#pip install pycaret"
   ]
  },
  {
   "cell_type": "code",
   "execution_count": 33,
   "metadata": {},
   "outputs": [],
   "source": [
    "train_df = pd.concat([X_train1,y_train],axis=1)\n",
    "test_df = pd.concat([X_test1,y_test],axis=1)"
   ]
  },
  {
   "cell_type": "code",
   "execution_count": 34,
   "metadata": {},
   "outputs": [
    {
     "data": {
      "text/html": [
       "<style type=\"text/css\">\n",
       "#T_60eab_row8_col1 {\n",
       "  background-color: lightgreen;\n",
       "}\n",
       "</style>\n",
       "<table id=\"T_60eab\">\n",
       "  <thead>\n",
       "    <tr>\n",
       "      <th class=\"blank level0\" >&nbsp;</th>\n",
       "      <th id=\"T_60eab_level0_col0\" class=\"col_heading level0 col0\" >Description</th>\n",
       "      <th id=\"T_60eab_level0_col1\" class=\"col_heading level0 col1\" >Value</th>\n",
       "    </tr>\n",
       "  </thead>\n",
       "  <tbody>\n",
       "    <tr>\n",
       "      <th id=\"T_60eab_level0_row0\" class=\"row_heading level0 row0\" >0</th>\n",
       "      <td id=\"T_60eab_row0_col0\" class=\"data row0 col0\" >Session id</td>\n",
       "      <td id=\"T_60eab_row0_col1\" class=\"data row0 col1\" >123</td>\n",
       "    </tr>\n",
       "    <tr>\n",
       "      <th id=\"T_60eab_level0_row1\" class=\"row_heading level0 row1\" >1</th>\n",
       "      <td id=\"T_60eab_row1_col0\" class=\"data row1 col0\" >Target</td>\n",
       "      <td id=\"T_60eab_row1_col1\" class=\"data row1 col1\" >condition_new</td>\n",
       "    </tr>\n",
       "    <tr>\n",
       "      <th id=\"T_60eab_level0_row2\" class=\"row_heading level0 row2\" >2</th>\n",
       "      <td id=\"T_60eab_row2_col0\" class=\"data row2 col0\" >Target type</td>\n",
       "      <td id=\"T_60eab_row2_col1\" class=\"data row2 col1\" >Binary</td>\n",
       "    </tr>\n",
       "    <tr>\n",
       "      <th id=\"T_60eab_level0_row3\" class=\"row_heading level0 row3\" >3</th>\n",
       "      <td id=\"T_60eab_row3_col0\" class=\"data row3 col0\" >Original data shape</td>\n",
       "      <td id=\"T_60eab_row3_col1\" class=\"data row3 col1\" >(100000, 15)</td>\n",
       "    </tr>\n",
       "    <tr>\n",
       "      <th id=\"T_60eab_level0_row4\" class=\"row_heading level0 row4\" >4</th>\n",
       "      <td id=\"T_60eab_row4_col0\" class=\"data row4 col0\" >Transformed data shape</td>\n",
       "      <td id=\"T_60eab_row4_col1\" class=\"data row4 col1\" >(100000, 15)</td>\n",
       "    </tr>\n",
       "    <tr>\n",
       "      <th id=\"T_60eab_level0_row5\" class=\"row_heading level0 row5\" >5</th>\n",
       "      <td id=\"T_60eab_row5_col0\" class=\"data row5 col0\" >Transformed train set shape</td>\n",
       "      <td id=\"T_60eab_row5_col1\" class=\"data row5 col1\" >(90000, 15)</td>\n",
       "    </tr>\n",
       "    <tr>\n",
       "      <th id=\"T_60eab_level0_row6\" class=\"row_heading level0 row6\" >6</th>\n",
       "      <td id=\"T_60eab_row6_col0\" class=\"data row6 col0\" >Transformed test set shape</td>\n",
       "      <td id=\"T_60eab_row6_col1\" class=\"data row6 col1\" >(10000, 15)</td>\n",
       "    </tr>\n",
       "    <tr>\n",
       "      <th id=\"T_60eab_level0_row7\" class=\"row_heading level0 row7\" >7</th>\n",
       "      <td id=\"T_60eab_row7_col0\" class=\"data row7 col0\" >Numeric features</td>\n",
       "      <td id=\"T_60eab_row7_col1\" class=\"data row7 col1\" >14</td>\n",
       "    </tr>\n",
       "    <tr>\n",
       "      <th id=\"T_60eab_level0_row8\" class=\"row_heading level0 row8\" >8</th>\n",
       "      <td id=\"T_60eab_row8_col0\" class=\"data row8 col0\" >Preprocess</td>\n",
       "      <td id=\"T_60eab_row8_col1\" class=\"data row8 col1\" >True</td>\n",
       "    </tr>\n",
       "    <tr>\n",
       "      <th id=\"T_60eab_level0_row9\" class=\"row_heading level0 row9\" >9</th>\n",
       "      <td id=\"T_60eab_row9_col0\" class=\"data row9 col0\" >Imputation type</td>\n",
       "      <td id=\"T_60eab_row9_col1\" class=\"data row9 col1\" >simple</td>\n",
       "    </tr>\n",
       "    <tr>\n",
       "      <th id=\"T_60eab_level0_row10\" class=\"row_heading level0 row10\" >10</th>\n",
       "      <td id=\"T_60eab_row10_col0\" class=\"data row10 col0\" >Numeric imputation</td>\n",
       "      <td id=\"T_60eab_row10_col1\" class=\"data row10 col1\" >mean</td>\n",
       "    </tr>\n",
       "    <tr>\n",
       "      <th id=\"T_60eab_level0_row11\" class=\"row_heading level0 row11\" >11</th>\n",
       "      <td id=\"T_60eab_row11_col0\" class=\"data row11 col0\" >Categorical imputation</td>\n",
       "      <td id=\"T_60eab_row11_col1\" class=\"data row11 col1\" >mode</td>\n",
       "    </tr>\n",
       "    <tr>\n",
       "      <th id=\"T_60eab_level0_row12\" class=\"row_heading level0 row12\" >12</th>\n",
       "      <td id=\"T_60eab_row12_col0\" class=\"data row12 col0\" >Fold Generator</td>\n",
       "      <td id=\"T_60eab_row12_col1\" class=\"data row12 col1\" >StratifiedKFold</td>\n",
       "    </tr>\n",
       "    <tr>\n",
       "      <th id=\"T_60eab_level0_row13\" class=\"row_heading level0 row13\" >13</th>\n",
       "      <td id=\"T_60eab_row13_col0\" class=\"data row13 col0\" >Fold Number</td>\n",
       "      <td id=\"T_60eab_row13_col1\" class=\"data row13 col1\" >10</td>\n",
       "    </tr>\n",
       "    <tr>\n",
       "      <th id=\"T_60eab_level0_row14\" class=\"row_heading level0 row14\" >14</th>\n",
       "      <td id=\"T_60eab_row14_col0\" class=\"data row14 col0\" >CPU Jobs</td>\n",
       "      <td id=\"T_60eab_row14_col1\" class=\"data row14 col1\" >-1</td>\n",
       "    </tr>\n",
       "    <tr>\n",
       "      <th id=\"T_60eab_level0_row15\" class=\"row_heading level0 row15\" >15</th>\n",
       "      <td id=\"T_60eab_row15_col0\" class=\"data row15 col0\" >Use GPU</td>\n",
       "      <td id=\"T_60eab_row15_col1\" class=\"data row15 col1\" >False</td>\n",
       "    </tr>\n",
       "    <tr>\n",
       "      <th id=\"T_60eab_level0_row16\" class=\"row_heading level0 row16\" >16</th>\n",
       "      <td id=\"T_60eab_row16_col0\" class=\"data row16 col0\" >Log Experiment</td>\n",
       "      <td id=\"T_60eab_row16_col1\" class=\"data row16 col1\" >False</td>\n",
       "    </tr>\n",
       "    <tr>\n",
       "      <th id=\"T_60eab_level0_row17\" class=\"row_heading level0 row17\" >17</th>\n",
       "      <td id=\"T_60eab_row17_col0\" class=\"data row17 col0\" >Experiment Name</td>\n",
       "      <td id=\"T_60eab_row17_col1\" class=\"data row17 col1\" >clf-default-name</td>\n",
       "    </tr>\n",
       "    <tr>\n",
       "      <th id=\"T_60eab_level0_row18\" class=\"row_heading level0 row18\" >18</th>\n",
       "      <td id=\"T_60eab_row18_col0\" class=\"data row18 col0\" >USI</td>\n",
       "      <td id=\"T_60eab_row18_col1\" class=\"data row18 col1\" >7cb3</td>\n",
       "    </tr>\n",
       "  </tbody>\n",
       "</table>\n"
      ],
      "text/plain": [
       "<pandas.io.formats.style.Styler at 0x1bf96830160>"
      ]
     },
     "metadata": {},
     "output_type": "display_data"
    }
   ],
   "source": [
    "from pycaret.classification import *\n",
    "\n",
    "# Configurar el experimento con los conjuntos de entrenamiento y prueba\n",
    "exp = setup(data=train_df, test_data=test_df, target='condition_new', session_id=123, index=False)"
   ]
  },
  {
   "cell_type": "code",
   "execution_count": 35,
   "metadata": {},
   "outputs": [
    {
     "data": {
      "text/html": [],
      "text/plain": [
       "<IPython.core.display.HTML object>"
      ]
     },
     "metadata": {},
     "output_type": "display_data"
    },
    {
     "data": {
      "text/html": [],
      "text/plain": [
       "<IPython.core.display.HTML object>"
      ]
     },
     "metadata": {},
     "output_type": "display_data"
    },
    {
     "data": {
      "text/html": [],
      "text/plain": [
       "<IPython.core.display.HTML object>"
      ]
     },
     "metadata": {},
     "output_type": "display_data"
    },
    {
     "data": {
      "text/html": [],
      "text/plain": [
       "<IPython.core.display.HTML object>"
      ]
     },
     "metadata": {},
     "output_type": "display_data"
    },
    {
     "data": {
      "text/html": [
       "<style type=\"text/css\">\n",
       "#T_74195_row10_col0, #T_74195_row10_col1, #T_74195_row10_col2, #T_74195_row10_col3, #T_74195_row10_col4, #T_74195_row10_col5, #T_74195_row10_col6 {\n",
       "  background: yellow;\n",
       "}\n",
       "</style>\n",
       "<table id=\"T_74195\">\n",
       "  <thead>\n",
       "    <tr>\n",
       "      <th class=\"blank level0\" >&nbsp;</th>\n",
       "      <th id=\"T_74195_level0_col0\" class=\"col_heading level0 col0\" >Accuracy</th>\n",
       "      <th id=\"T_74195_level0_col1\" class=\"col_heading level0 col1\" >AUC</th>\n",
       "      <th id=\"T_74195_level0_col2\" class=\"col_heading level0 col2\" >Recall</th>\n",
       "      <th id=\"T_74195_level0_col3\" class=\"col_heading level0 col3\" >Prec.</th>\n",
       "      <th id=\"T_74195_level0_col4\" class=\"col_heading level0 col4\" >F1</th>\n",
       "      <th id=\"T_74195_level0_col5\" class=\"col_heading level0 col5\" >Kappa</th>\n",
       "      <th id=\"T_74195_level0_col6\" class=\"col_heading level0 col6\" >MCC</th>\n",
       "    </tr>\n",
       "    <tr>\n",
       "      <th class=\"index_name level0\" >Fold</th>\n",
       "      <th class=\"blank col0\" >&nbsp;</th>\n",
       "      <th class=\"blank col1\" >&nbsp;</th>\n",
       "      <th class=\"blank col2\" >&nbsp;</th>\n",
       "      <th class=\"blank col3\" >&nbsp;</th>\n",
       "      <th class=\"blank col4\" >&nbsp;</th>\n",
       "      <th class=\"blank col5\" >&nbsp;</th>\n",
       "      <th class=\"blank col6\" >&nbsp;</th>\n",
       "    </tr>\n",
       "  </thead>\n",
       "  <tbody>\n",
       "    <tr>\n",
       "      <th id=\"T_74195_level0_row0\" class=\"row_heading level0 row0\" >0</th>\n",
       "      <td id=\"T_74195_row0_col0\" class=\"data row0 col0\" >0.7186</td>\n",
       "      <td id=\"T_74195_row0_col1\" class=\"data row0 col1\" >0.9335</td>\n",
       "      <td id=\"T_74195_row0_col2\" class=\"data row0 col2\" >0.9839</td>\n",
       "      <td id=\"T_74195_row0_col3\" class=\"data row0 col3\" >0.6596</td>\n",
       "      <td id=\"T_74195_row0_col4\" class=\"data row0 col4\" >0.7898</td>\n",
       "      <td id=\"T_74195_row0_col5\" class=\"data row0 col5\" >0.4106</td>\n",
       "      <td id=\"T_74195_row0_col6\" class=\"data row0 col6\" >0.4928</td>\n",
       "    </tr>\n",
       "    <tr>\n",
       "      <th id=\"T_74195_level0_row1\" class=\"row_heading level0 row1\" >1</th>\n",
       "      <td id=\"T_74195_row1_col0\" class=\"data row1 col0\" >0.7144</td>\n",
       "      <td id=\"T_74195_row1_col1\" class=\"data row1 col1\" >0.9321</td>\n",
       "      <td id=\"T_74195_row1_col2\" class=\"data row1 col2\" >0.9843</td>\n",
       "      <td id=\"T_74195_row1_col3\" class=\"data row1 col3\" >0.6562</td>\n",
       "      <td id=\"T_74195_row1_col4\" class=\"data row1 col4\" >0.7874</td>\n",
       "      <td id=\"T_74195_row1_col5\" class=\"data row1 col5\" >0.4015</td>\n",
       "      <td id=\"T_74195_row1_col6\" class=\"data row1 col6\" >0.4859</td>\n",
       "    </tr>\n",
       "    <tr>\n",
       "      <th id=\"T_74195_level0_row2\" class=\"row_heading level0 row2\" >2</th>\n",
       "      <td id=\"T_74195_row2_col0\" class=\"data row2 col0\" >0.7139</td>\n",
       "      <td id=\"T_74195_row2_col1\" class=\"data row2 col1\" >0.9308</td>\n",
       "      <td id=\"T_74195_row2_col2\" class=\"data row2 col2\" >0.9820</td>\n",
       "      <td id=\"T_74195_row2_col3\" class=\"data row2 col3\" >0.6562</td>\n",
       "      <td id=\"T_74195_row2_col4\" class=\"data row2 col4\" >0.7867</td>\n",
       "      <td id=\"T_74195_row2_col5\" class=\"data row2 col5\" >0.4006</td>\n",
       "      <td id=\"T_74195_row2_col6\" class=\"data row2 col6\" >0.4831</td>\n",
       "    </tr>\n",
       "    <tr>\n",
       "      <th id=\"T_74195_level0_row3\" class=\"row_heading level0 row3\" >3</th>\n",
       "      <td id=\"T_74195_row3_col0\" class=\"data row3 col0\" >0.7183</td>\n",
       "      <td id=\"T_74195_row3_col1\" class=\"data row3 col1\" >0.9306</td>\n",
       "      <td id=\"T_74195_row3_col2\" class=\"data row3 col2\" >0.9866</td>\n",
       "      <td id=\"T_74195_row3_col3\" class=\"data row3 col3\" >0.6588</td>\n",
       "      <td id=\"T_74195_row3_col4\" class=\"data row3 col4\" >0.7901</td>\n",
       "      <td id=\"T_74195_row3_col5\" class=\"data row3 col5\" >0.4099</td>\n",
       "      <td id=\"T_74195_row3_col6\" class=\"data row3 col6\" >0.4947</td>\n",
       "    </tr>\n",
       "    <tr>\n",
       "      <th id=\"T_74195_level0_row4\" class=\"row_heading level0 row4\" >4</th>\n",
       "      <td id=\"T_74195_row4_col0\" class=\"data row4 col0\" >0.7132</td>\n",
       "      <td id=\"T_74195_row4_col1\" class=\"data row4 col1\" >0.9286</td>\n",
       "      <td id=\"T_74195_row4_col2\" class=\"data row4 col2\" >0.9806</td>\n",
       "      <td id=\"T_74195_row4_col3\" class=\"data row4 col3\" >0.6559</td>\n",
       "      <td id=\"T_74195_row4_col4\" class=\"data row4 col4\" >0.7860</td>\n",
       "      <td id=\"T_74195_row4_col5\" class=\"data row4 col5\" >0.3993</td>\n",
       "      <td id=\"T_74195_row4_col6\" class=\"data row4 col6\" >0.4808</td>\n",
       "    </tr>\n",
       "    <tr>\n",
       "      <th id=\"T_74195_level0_row5\" class=\"row_heading level0 row5\" >5</th>\n",
       "      <td id=\"T_74195_row5_col0\" class=\"data row5 col0\" >0.7189</td>\n",
       "      <td id=\"T_74195_row5_col1\" class=\"data row5 col1\" >0.9338</td>\n",
       "      <td id=\"T_74195_row5_col2\" class=\"data row5 col2\" >0.9824</td>\n",
       "      <td id=\"T_74195_row5_col3\" class=\"data row5 col3\" >0.6602</td>\n",
       "      <td id=\"T_74195_row5_col4\" class=\"data row5 col4\" >0.7897</td>\n",
       "      <td id=\"T_74195_row5_col5\" class=\"data row5 col5\" >0.4115</td>\n",
       "      <td id=\"T_74195_row5_col6\" class=\"data row5 col6\" >0.4923</td>\n",
       "    </tr>\n",
       "    <tr>\n",
       "      <th id=\"T_74195_level0_row6\" class=\"row_heading level0 row6\" >6</th>\n",
       "      <td id=\"T_74195_row6_col0\" class=\"data row6 col0\" >0.7260</td>\n",
       "      <td id=\"T_74195_row6_col1\" class=\"data row6 col1\" >0.9346</td>\n",
       "      <td id=\"T_74195_row6_col2\" class=\"data row6 col2\" >0.9857</td>\n",
       "      <td id=\"T_74195_row6_col3\" class=\"data row6 col3\" >0.6654</td>\n",
       "      <td id=\"T_74195_row6_col4\" class=\"data row6 col4\" >0.7945</td>\n",
       "      <td id=\"T_74195_row6_col5\" class=\"data row6 col5\" >0.4267</td>\n",
       "      <td id=\"T_74195_row6_col6\" class=\"data row6 col6\" >0.5075</td>\n",
       "    </tr>\n",
       "    <tr>\n",
       "      <th id=\"T_74195_level0_row7\" class=\"row_heading level0 row7\" >7</th>\n",
       "      <td id=\"T_74195_row7_col0\" class=\"data row7 col0\" >0.7151</td>\n",
       "      <td id=\"T_74195_row7_col1\" class=\"data row7 col1\" >0.9363</td>\n",
       "      <td id=\"T_74195_row7_col2\" class=\"data row7 col2\" >0.9845</td>\n",
       "      <td id=\"T_74195_row7_col3\" class=\"data row7 col3\" >0.6566</td>\n",
       "      <td id=\"T_74195_row7_col4\" class=\"data row7 col4\" >0.7878</td>\n",
       "      <td id=\"T_74195_row7_col5\" class=\"data row7 col5\" >0.4031</td>\n",
       "      <td id=\"T_74195_row7_col6\" class=\"data row7 col6\" >0.4873</td>\n",
       "    </tr>\n",
       "    <tr>\n",
       "      <th id=\"T_74195_level0_row8\" class=\"row_heading level0 row8\" >8</th>\n",
       "      <td id=\"T_74195_row8_col0\" class=\"data row8 col0\" >0.7201</td>\n",
       "      <td id=\"T_74195_row8_col1\" class=\"data row8 col1\" >0.9336</td>\n",
       "      <td id=\"T_74195_row8_col2\" class=\"data row8 col2\" >0.9830</td>\n",
       "      <td id=\"T_74195_row8_col3\" class=\"data row8 col3\" >0.6611</td>\n",
       "      <td id=\"T_74195_row8_col4\" class=\"data row8 col4\" >0.7905</td>\n",
       "      <td id=\"T_74195_row8_col5\" class=\"data row8 col5\" >0.4142</td>\n",
       "      <td id=\"T_74195_row8_col6\" class=\"data row8 col6\" >0.4950</td>\n",
       "    </tr>\n",
       "    <tr>\n",
       "      <th id=\"T_74195_level0_row9\" class=\"row_heading level0 row9\" >9</th>\n",
       "      <td id=\"T_74195_row9_col0\" class=\"data row9 col0\" >0.7234</td>\n",
       "      <td id=\"T_74195_row9_col1\" class=\"data row9 col1\" >0.9354</td>\n",
       "      <td id=\"T_74195_row9_col2\" class=\"data row9 col2\" >0.9839</td>\n",
       "      <td id=\"T_74195_row9_col3\" class=\"data row9 col3\" >0.6636</td>\n",
       "      <td id=\"T_74195_row9_col4\" class=\"data row9 col4\" >0.7926</td>\n",
       "      <td id=\"T_74195_row9_col5\" class=\"data row9 col5\" >0.4213</td>\n",
       "      <td id=\"T_74195_row9_col6\" class=\"data row9 col6\" >0.5015</td>\n",
       "    </tr>\n",
       "    <tr>\n",
       "      <th id=\"T_74195_level0_row10\" class=\"row_heading level0 row10\" >Mean</th>\n",
       "      <td id=\"T_74195_row10_col0\" class=\"data row10 col0\" >0.7182</td>\n",
       "      <td id=\"T_74195_row10_col1\" class=\"data row10 col1\" >0.9329</td>\n",
       "      <td id=\"T_74195_row10_col2\" class=\"data row10 col2\" >0.9837</td>\n",
       "      <td id=\"T_74195_row10_col3\" class=\"data row10 col3\" >0.6594</td>\n",
       "      <td id=\"T_74195_row10_col4\" class=\"data row10 col4\" >0.7895</td>\n",
       "      <td id=\"T_74195_row10_col5\" class=\"data row10 col5\" >0.4099</td>\n",
       "      <td id=\"T_74195_row10_col6\" class=\"data row10 col6\" >0.4921</td>\n",
       "    </tr>\n",
       "    <tr>\n",
       "      <th id=\"T_74195_level0_row11\" class=\"row_heading level0 row11\" >Std</th>\n",
       "      <td id=\"T_74195_row11_col0\" class=\"data row11 col0\" >0.0040</td>\n",
       "      <td id=\"T_74195_row11_col1\" class=\"data row11 col1\" >0.0023</td>\n",
       "      <td id=\"T_74195_row11_col2\" class=\"data row11 col2\" >0.0017</td>\n",
       "      <td id=\"T_74195_row11_col3\" class=\"data row11 col3\" >0.0031</td>\n",
       "      <td id=\"T_74195_row11_col4\" class=\"data row11 col4\" >0.0025</td>\n",
       "      <td id=\"T_74195_row11_col5\" class=\"data row11 col5\" >0.0087</td>\n",
       "      <td id=\"T_74195_row11_col6\" class=\"data row11 col6\" >0.0078</td>\n",
       "    </tr>\n",
       "  </tbody>\n",
       "</table>\n"
      ],
      "text/plain": [
       "<pandas.io.formats.style.Styler at 0x1bf96830ca0>"
      ]
     },
     "metadata": {},
     "output_type": "display_data"
    },
    {
     "data": {
      "text/html": [],
      "text/plain": [
       "<IPython.core.display.HTML object>"
      ]
     },
     "metadata": {},
     "output_type": "display_data"
    },
    {
     "name": "stdout",
     "output_type": "stream",
     "text": [
      "Fitting 10 folds for each of 10 candidates, totalling 100 fits\n",
      "Original model was better than the tuned model, hence it will be returned. NOTE: The display metrics are for the tuned model (not the original one).\n"
     ]
    },
    {
     "data": {
      "text/html": [
       "<style type=\"text/css\">\n",
       "</style>\n",
       "<table id=\"T_a5b46\">\n",
       "  <thead>\n",
       "    <tr>\n",
       "      <th class=\"blank level0\" >&nbsp;</th>\n",
       "      <th id=\"T_a5b46_level0_col0\" class=\"col_heading level0 col0\" >Model</th>\n",
       "      <th id=\"T_a5b46_level0_col1\" class=\"col_heading level0 col1\" >Accuracy</th>\n",
       "      <th id=\"T_a5b46_level0_col2\" class=\"col_heading level0 col2\" >AUC</th>\n",
       "      <th id=\"T_a5b46_level0_col3\" class=\"col_heading level0 col3\" >Recall</th>\n",
       "      <th id=\"T_a5b46_level0_col4\" class=\"col_heading level0 col4\" >Prec.</th>\n",
       "      <th id=\"T_a5b46_level0_col5\" class=\"col_heading level0 col5\" >F1</th>\n",
       "      <th id=\"T_a5b46_level0_col6\" class=\"col_heading level0 col6\" >Kappa</th>\n",
       "      <th id=\"T_a5b46_level0_col7\" class=\"col_heading level0 col7\" >MCC</th>\n",
       "    </tr>\n",
       "  </thead>\n",
       "  <tbody>\n",
       "    <tr>\n",
       "      <th id=\"T_a5b46_level0_row0\" class=\"row_heading level0 row0\" >0</th>\n",
       "      <td id=\"T_a5b46_row0_col0\" class=\"data row0 col0\" >Extreme Gradient Boosting</td>\n",
       "      <td id=\"T_a5b46_row0_col1\" class=\"data row0 col1\" >0.8580</td>\n",
       "      <td id=\"T_a5b46_row0_col2\" class=\"data row0 col2\" >0.9374</td>\n",
       "      <td id=\"T_a5b46_row0_col3\" class=\"data row0 col3\" >0.8526</td>\n",
       "      <td id=\"T_a5b46_row0_col4\" class=\"data row0 col4\" >0.8809</td>\n",
       "      <td id=\"T_a5b46_row0_col5\" class=\"data row0 col5\" >0.8665</td>\n",
       "      <td id=\"T_a5b46_row0_col6\" class=\"data row0 col6\" >0.7149</td>\n",
       "      <td id=\"T_a5b46_row0_col7\" class=\"data row0 col7\" >0.7154</td>\n",
       "    </tr>\n",
       "  </tbody>\n",
       "</table>\n"
      ],
      "text/plain": [
       "<pandas.io.formats.style.Styler at 0x1bfa1e608b0>"
      ]
     },
     "metadata": {},
     "output_type": "display_data"
    }
   ],
   "source": [
    "# Comparar modelos y seleccionar el mejor\n",
    "best_model = compare_models()\n",
    "\n",
    "# Ajustar el modelo seleccionado\n",
    "tuned_model = tune_model(best_model)\n",
    "\n",
    "# Evaluar el modelo en el conjunto de prueba\n",
    "predictions = predict_model(tuned_model, data=test_df)"
   ]
  },
  {
   "cell_type": "code",
   "execution_count": 36,
   "metadata": {},
   "outputs": [
    {
     "data": {
      "text/html": [
       "<style>#sk-container-id-2 {color: black;background-color: white;}#sk-container-id-2 pre{padding: 0;}#sk-container-id-2 div.sk-toggleable {background-color: white;}#sk-container-id-2 label.sk-toggleable__label {cursor: pointer;display: block;width: 100%;margin-bottom: 0;padding: 0.3em;box-sizing: border-box;text-align: center;}#sk-container-id-2 label.sk-toggleable__label-arrow:before {content: \"▸\";float: left;margin-right: 0.25em;color: #696969;}#sk-container-id-2 label.sk-toggleable__label-arrow:hover:before {color: black;}#sk-container-id-2 div.sk-estimator:hover label.sk-toggleable__label-arrow:before {color: black;}#sk-container-id-2 div.sk-toggleable__content {max-height: 0;max-width: 0;overflow: hidden;text-align: left;background-color: #f0f8ff;}#sk-container-id-2 div.sk-toggleable__content pre {margin: 0.2em;color: black;border-radius: 0.25em;background-color: #f0f8ff;}#sk-container-id-2 input.sk-toggleable__control:checked~div.sk-toggleable__content {max-height: 200px;max-width: 100%;overflow: auto;}#sk-container-id-2 input.sk-toggleable__control:checked~label.sk-toggleable__label-arrow:before {content: \"▾\";}#sk-container-id-2 div.sk-estimator input.sk-toggleable__control:checked~label.sk-toggleable__label {background-color: #d4ebff;}#sk-container-id-2 div.sk-label input.sk-toggleable__control:checked~label.sk-toggleable__label {background-color: #d4ebff;}#sk-container-id-2 input.sk-hidden--visually {border: 0;clip: rect(1px 1px 1px 1px);clip: rect(1px, 1px, 1px, 1px);height: 1px;margin: -1px;overflow: hidden;padding: 0;position: absolute;width: 1px;}#sk-container-id-2 div.sk-estimator {font-family: monospace;background-color: #f0f8ff;border: 1px dotted black;border-radius: 0.25em;box-sizing: border-box;margin-bottom: 0.5em;}#sk-container-id-2 div.sk-estimator:hover {background-color: #d4ebff;}#sk-container-id-2 div.sk-parallel-item::after {content: \"\";width: 100%;border-bottom: 1px solid gray;flex-grow: 1;}#sk-container-id-2 div.sk-label:hover label.sk-toggleable__label {background-color: #d4ebff;}#sk-container-id-2 div.sk-serial::before {content: \"\";position: absolute;border-left: 1px solid gray;box-sizing: border-box;top: 0;bottom: 0;left: 50%;z-index: 0;}#sk-container-id-2 div.sk-serial {display: flex;flex-direction: column;align-items: center;background-color: white;padding-right: 0.2em;padding-left: 0.2em;position: relative;}#sk-container-id-2 div.sk-item {position: relative;z-index: 1;}#sk-container-id-2 div.sk-parallel {display: flex;align-items: stretch;justify-content: center;background-color: white;position: relative;}#sk-container-id-2 div.sk-item::before, #sk-container-id-2 div.sk-parallel-item::before {content: \"\";position: absolute;border-left: 1px solid gray;box-sizing: border-box;top: 0;bottom: 0;left: 50%;z-index: -1;}#sk-container-id-2 div.sk-parallel-item {display: flex;flex-direction: column;z-index: 1;position: relative;background-color: white;}#sk-container-id-2 div.sk-parallel-item:first-child::after {align-self: flex-end;width: 50%;}#sk-container-id-2 div.sk-parallel-item:last-child::after {align-self: flex-start;width: 50%;}#sk-container-id-2 div.sk-parallel-item:only-child::after {width: 0;}#sk-container-id-2 div.sk-dashed-wrapped {border: 1px dashed gray;margin: 0 0.4em 0.5em 0.4em;box-sizing: border-box;padding-bottom: 0.4em;background-color: white;}#sk-container-id-2 div.sk-label label {font-family: monospace;font-weight: bold;display: inline-block;line-height: 1.2em;}#sk-container-id-2 div.sk-label-container {text-align: center;}#sk-container-id-2 div.sk-container {/* jupyter's `normalize.less` sets `[hidden] { display: none; }` but bootstrap.min.css set `[hidden] { display: none !important; }` so we also need the `!important` here to be able to override the default hidden behavior on the sphinx rendered scikit-learn.org. See: https://github.com/scikit-learn/scikit-learn/issues/21755 */display: inline-block !important;position: relative;}#sk-container-id-2 div.sk-text-repr-fallback {display: none;}</style><div id=\"sk-container-id-2\" class=\"sk-top-container\"><div class=\"sk-text-repr-fallback\"><pre>XGBClassifier(base_score=None, booster=&#x27;gbtree&#x27;, callbacks=None,\n",
       "              colsample_bylevel=None, colsample_bynode=None,\n",
       "              colsample_bytree=None, device=None, early_stopping_rounds=None,\n",
       "              enable_categorical=False, eval_metric=None, feature_types=None,\n",
       "              gamma=None, grow_policy=None, importance_type=None,\n",
       "              interaction_constraints=None, learning_rate=None, max_bin=None,\n",
       "              max_cat_threshold=None, max_cat_to_onehot=None,\n",
       "              max_delta_step=None, max_depth=None, max_leaves=None,\n",
       "              min_child_weight=None, missing=nan, monotone_constraints=None,\n",
       "              multi_strategy=None, n_estimators=None, n_jobs=-1,\n",
       "              num_parallel_tree=None, objective=&#x27;binary:logistic&#x27;, ...)</pre><b>In a Jupyter environment, please rerun this cell to show the HTML representation or trust the notebook. <br />On GitHub, the HTML representation is unable to render, please try loading this page with nbviewer.org.</b></div><div class=\"sk-container\" hidden><div class=\"sk-item\"><div class=\"sk-estimator sk-toggleable\"><input class=\"sk-toggleable__control sk-hidden--visually\" id=\"sk-estimator-id-2\" type=\"checkbox\" checked><label for=\"sk-estimator-id-2\" class=\"sk-toggleable__label sk-toggleable__label-arrow\">XGBClassifier</label><div class=\"sk-toggleable__content\"><pre>XGBClassifier(base_score=None, booster=&#x27;gbtree&#x27;, callbacks=None,\n",
       "              colsample_bylevel=None, colsample_bynode=None,\n",
       "              colsample_bytree=None, device=None, early_stopping_rounds=None,\n",
       "              enable_categorical=False, eval_metric=None, feature_types=None,\n",
       "              gamma=None, grow_policy=None, importance_type=None,\n",
       "              interaction_constraints=None, learning_rate=None, max_bin=None,\n",
       "              max_cat_threshold=None, max_cat_to_onehot=None,\n",
       "              max_delta_step=None, max_depth=None, max_leaves=None,\n",
       "              min_child_weight=None, missing=nan, monotone_constraints=None,\n",
       "              multi_strategy=None, n_estimators=None, n_jobs=-1,\n",
       "              num_parallel_tree=None, objective=&#x27;binary:logistic&#x27;, ...)</pre></div></div></div></div></div>"
      ],
      "text/plain": [
       "XGBClassifier(base_score=None, booster='gbtree', callbacks=None,\n",
       "              colsample_bylevel=None, colsample_bynode=None,\n",
       "              colsample_bytree=None, device=None, early_stopping_rounds=None,\n",
       "              enable_categorical=False, eval_metric=None, feature_types=None,\n",
       "              gamma=None, grow_policy=None, importance_type=None,\n",
       "              interaction_constraints=None, learning_rate=None, max_bin=None,\n",
       "              max_cat_threshold=None, max_cat_to_onehot=None,\n",
       "              max_delta_step=None, max_depth=None, max_leaves=None,\n",
       "              min_child_weight=None, missing=nan, monotone_constraints=None,\n",
       "              multi_strategy=None, n_estimators=None, n_jobs=-1,\n",
       "              num_parallel_tree=None, objective='binary:logistic', ...)"
      ]
     },
     "execution_count": 36,
     "metadata": {},
     "output_type": "execute_result"
    }
   ],
   "source": [
    "best_model"
   ]
  }
 ],
 "metadata": {
  "kernelspec": {
   "display_name": "base",
   "language": "python",
   "name": "python3"
  },
  "language_info": {
   "codemirror_mode": {
    "name": "ipython",
    "version": 3
   },
   "file_extension": ".py",
   "mimetype": "text/x-python",
   "name": "python",
   "nbconvert_exporter": "python",
   "pygments_lexer": "ipython3",
   "version": "3.8.10"
  },
  "orig_nbformat": 4
 },
 "nbformat": 4,
 "nbformat_minor": 2
}
