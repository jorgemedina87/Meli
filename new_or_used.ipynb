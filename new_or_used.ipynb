{
 "cells": [
  {
   "cell_type": "code",
   "execution_count": 1,
   "metadata": {},
   "outputs": [],
   "source": [
    "import numpy as np                          # Operaciones numéricas eficientes en matrices\n",
    "import pandas as pd                         # Estructuras y análisis de datos tabulares\n",
    "import json                                 # Manipulación de objetos JSON\n",
    "import jsonlines                            # Lectura y escritura de archivos JSON en formato de líneas\n",
    "from sklearn.compose import ColumnTransformer  # Transformaciones de columnas en un estimador de flujo de trabajo\n",
    "from sklearn.preprocessing import OneHotEncoder  # Codificación one-hot para variables categóricas\n",
    "from sklearn.preprocessing import StandardScaler  # Escalado de características\n",
    "from sklearn.compose import make_column_selector  # Selector de columnas basado en tipos de datos\n",
    "from sklearn.pipeline import Pipeline       # Construcción de canalizaciones de transformación y modelado\n",
    "from sklearn.impute import SimpleImputer    # Imputación de valores faltantes\n",
    "from sklearn import preprocessing          # Preprocesamiento de datos\n",
    "import imblearn                            # Técnicas de remuestreo y equilibrio de clases\n",
    "import matplotlib.pyplot as plt            # Creación de gráficos y visualización de datos\n",
    "import xgboost as xgb                       # Implementación de algoritmos de XGBoost\n",
    "from xgboost import XGBClassifier          # Clasificador XGBoost\n",
    "from sklearn.model_selection import train_test_split  # División de datos en conjuntos de entrenamiento y prueba\n",
    "from sklearn.preprocessing import LabelEncoder       # Codificación de etiquetas\n",
    "from sklearn.metrics import average_precision_score  # Cálculo del promedio de precisión\n",
    "from scipy import stats                     # Funciones estadísticas y matemáticas avanzadas\n",
    "from sklearn.metrics import roc_curve, mean_squared_error, roc_auc_score, precision_score  # Métricas de evaluación\n",
    "from sklearn.metrics import precision_recall_curve, auc, confusion_matrix, recall_score\n",
    "from sklearn.metrics import accuracy_score, cohen_kappa_score, classification_report\n",
    "from sklearn.metrics import fbeta_score, make_scorer, f1_score\n",
    "from sklearn.model_selection import train_test_split  # División de datos en conjuntos de entrenamiento y prueba\n",
    "from sklearn.model_selection import GridSearchCV     # Búsqueda exhaustiva de hiperparámetros en cuadrícula\n",
    "from sklearn.model_selection import StratifiedKFold   # División estratificada de datos para validación cruzada\n",
    "from sklearn.model_selection import RandomizedSearchCV  # Búsqueda aleatoria de hiperparámetros\n",
    "import time                                    # Funciones relacionadas con el tiempo\n",
    "from sklearn.preprocessing import StandardScaler  # Escalado de características\n",
    "from sklearn.linear_model import LogisticRegression  # Regresión logística\n",
    "from sklearn.tree import DecisionTreeClassifier       # Árbol de decisión\n",
    "from sklearn.svm import SVC                           # Máquinas de vectores de soporte\n",
    "from sklearn.model_selection import GridSearchCV\n",
    "from sklearn.linear_model import LogisticRegression\n",
    "from sklearn.metrics import accuracy_score\n",
    "from scipy.stats import randint, uniform\n",
    "import seaborn as sns\n",
    "\n"
   ]
  },
  {
   "cell_type": "code",
   "execution_count": 2,
   "metadata": {},
   "outputs": [],
   "source": [
    "import sys\n",
    "sys.path.append('C:/Users/medinaj/OneDrive - SierraCol Energy/sierracol_2022/Meli_J/challenge-ml/')"
   ]
  },
  {
   "cell_type": "code",
   "execution_count": 3,
   "metadata": {},
   "outputs": [],
   "source": [
    "from data.raw.new_or_used import build_dataset\n",
    "from data.processed.seller_address_transformer import SellerAddressTransformer\n",
    "from data.processed.shipping_transformer import ShippingTransformer\n",
    "from data.processed.tags_transformer import TagsTransformer\n",
    "from data.processed.payment_methods_transformer import PaymentMethodsTransformer\n",
    "from data.processed.warranty_transformer import WarrantyTransformer"
   ]
  },
  {
   "cell_type": "code",
   "execution_count": 4,
   "metadata": {},
   "outputs": [],
   "source": [
    "# Obtener los datos\n",
    "X_train, y_train, X_test, y_test = build_dataset()\n",
    "\n",
    "# Convertir en dataframes\n",
    "df_X_train = pd.DataFrame(X_train)\n",
    "df_X_test = pd.DataFrame(X_test)\n",
    "df_y_train = pd.DataFrame({\"condition\": y_train})\n",
    "df_y_test = pd.DataFrame({\"condition\": y_test})"
   ]
  },
  {
   "cell_type": "code",
   "execution_count": 5,
   "metadata": {},
   "outputs": [],
   "source": [
    "# Assign 'id' column for df_X_train from 1 to 90,000\n",
    "df_X_train['id'] = range(1, len(df_X_train) + 1)\n",
    "\n",
    "# Assign 'id' column for df_X_test from 1 to 10,000\n",
    "df_X_test['id'] = range(1, len(df_X_test) + 1)\n",
    "\n",
    "\n",
    "# Añadir df_y_test al df_X_test\n",
    "df_X_test['condition'] = df_y_test\n",
    "\n",
    "# Selecting the relevant columns\n",
    "df_nlp = df_X_train[['id', 'condition', 'title']]\n",
    "df_nlp_test = df_X_test[['id', 'condition', 'title']]"
   ]
  },
  {
   "cell_type": "code",
   "execution_count": 6,
   "metadata": {},
   "outputs": [],
   "source": [
    "df_save_category = pd.read_csv('C:\\\\Users\\\\medinaj\\\\OneDrive - SierraCol Energy\\\\sierracol_2022\\\\Meli_J\\\\challenge-ml\\\\data\\\\processed\\\\df_save.csv', sep='|')"
   ]
  },
  {
   "cell_type": "code",
   "execution_count": 7,
   "metadata": {},
   "outputs": [],
   "source": [
    "# Filtrar df_save_category\n",
    "df_save_category_train = df_save_category[df_save_category['dataset'] == 'train']\n",
    "df_save_category_test = df_save_category[df_save_category['dataset'] == 'test']\n",
    "\n",
    "# Merge con df_X_train\n",
    "df_X_train = pd.merge(df_X_train, df_save_category_train, on='id', how='left')\n",
    "df_X_test = pd.merge(df_X_test, df_save_category_test, on='id', how='left')"
   ]
  },
  {
   "cell_type": "code",
   "execution_count": 8,
   "metadata": {},
   "outputs": [],
   "source": [
    "def process_dataframe(df):\n",
    "    sat = SellerAddressTransformer()\n",
    "    st = ShippingTransformer()\n",
    "    tt = TagsTransformer()\n",
    "    pmt = PaymentMethodsTransformer()\n",
    "    wt = WarrantyTransformer() \n",
    "    \n",
    "    # Apply transformations and get processed DataFrames\n",
    "    seller_address_normalized = sat.transform(df)\n",
    "    shipping_normalized = st.transform(df)\n",
    "    df = tt.transform(df)\n",
    "    df = pmt.transform(df)\n",
    "    df[\"warranty\"] = df[\"warranty\"].apply(wt.transform)\n",
    "\n",
    "\n",
    "    # Calculo de la columna 'listing_type_id'\n",
    "    mapeo = {'bronze': 'bronze', 'free': 'free', 'silver': 'silver', 'gold_special': 'superior',\n",
    "             'gold': 'superior', 'gold_premium': 'superior', 'gold_pro': 'superior'}\n",
    "    df['listing_type2'] = df['listing_type_id'].replace(mapeo)\n",
    "    df['listing_type'] = df['listing_type2'].replace({'bronze': 1, 'free': 0, 'superior': 3, 'silver': 2})\n",
    "\n",
    "      # Calculo de las columnas de fechas\n",
    "    date_columns = ['last_updated', 'date_created']\n",
    "    for col in date_columns:\n",
    "        df[col] = pd.to_datetime(df[col])\n",
    "        df[col] = df[col].dt.tz_localize(None)\n",
    "        df[f'days_{col}'] = (pd.Timestamp.now().normalize() - df[col].dt.normalize()).dt.days\n",
    "\n",
    "    # Calculo de las columnas de fechas\n",
    "    date_columns = ['stop_time', 'start_time']\n",
    "    for col in date_columns:\n",
    "        df[col] = pd.to_datetime(df[col],format='%Y-%m-%d %H:%M:%S')\n",
    "        df[col] = df[col].dt.tz_localize(None)\n",
    "        df[f'days_{col}'] = (pd.Timestamp.now().normalize() - df[col].dt.normalize()).dt.days\n",
    "\n",
    "    # Calculo de la columna 'dif_vendidos'\n",
    "    df['dif_vendidos'] = df['available_quantity'] - df['sold_quantity']\n",
    "\n",
    "   # Eliminar columnas innecesarias\n",
    "    cols_delete = ['seller_address', 'sub_status', 'deal_ids',\n",
    "       'shipping', 'non_mercado_pago_payment_methods',\n",
    "       'seller_id', 'variations', 'site_id', 'listing_type_id', \n",
    "       'attributes', 'buying_mode', 'tags', 'listing_source', 'parent_item_id',\n",
    "       'coverage_areas', 'category_id', 'descriptions', 'last_updated',\n",
    "       'international_delivery_mode', 'pictures', 'id', 'official_store_id',\n",
    "       'differential_pricing', 'accepts_mercadopago', 'original_price',\n",
    "       'currency_id', 'thumbnail', 'title', 'automatic_relist', 'date_created',\n",
    "       'secure_thumbnail', 'stop_time', 'status', 'video_id',\n",
    "       'catalog_product_id', 'subtitle', 'start_time',\n",
    "       'permalink','listing_type_id','listing_type2','base_price','initial_quantity',\n",
    "       'non_mercado_pago_payment_methods_count2','available_quantity','days_stop_time', 'days_start_time',\n",
    "       'seller_contact', 'location' , 'geolocation', 'Document', 'Category', 'dataset']\n",
    "    \n",
    "    df = df.drop(columns=cols_delete, errors='ignore') \n",
    "\n",
    "    df=pd.concat([df,seller_address_normalized['seller_address_stateid']\n",
    "                      ], axis=1)\n",
    "\n",
    "    return df"
   ]
  },
  {
   "cell_type": "code",
   "execution_count": 9,
   "metadata": {},
   "outputs": [
    {
     "name": "stderr",
     "output_type": "stream",
     "text": [
      "c:\\Users\\medinaj\\OneDrive - SierraCol Energy\\sierracol_2022\\Meli_J\\challenge-ml\\data\\processed\\tags_transformer.py:6: FutureWarning: The default dtype for empty Series will be 'object' instead of 'float64' in a future version. Specify a dtype explicitly to silence this warning.\n",
      "  expanded_tags = df['tags'].apply(pd.Series).add_suffix('_tags')\n",
      "c:\\Users\\medinaj\\OneDrive - SierraCol Energy\\sierracol_2022\\Meli_J\\challenge-ml\\data\\processed\\tags_transformer.py:6: FutureWarning: The default dtype for empty Series will be 'object' instead of 'float64' in a future version. Specify a dtype explicitly to silence this warning.\n",
      "  expanded_tags = df['tags'].apply(pd.Series).add_suffix('_tags')\n"
     ]
    }
   ],
   "source": [
    "X_train1 = process_dataframe(df_X_train)\n",
    "X_train1 = X_train1.drop(columns=['condition'])\n",
    "X_test1 = process_dataframe(df_X_test)\n",
    "X_test1 = X_test1.drop(columns=['condition'])"
   ]
  },
  {
   "cell_type": "code",
   "execution_count": 10,
   "metadata": {},
   "outputs": [],
   "source": [
    "# Creamos las variables binarias\n",
    "df_dummies = pd.get_dummies(X_train1['seller_address_stateid'], drop_first=True)\n",
    "df_dummies = df_dummies.rename(columns={'AR-C': 'seller_address_stateid_AR-C','OTHER': 'seller_address_stateid_OTHER'})\n",
    "X_train1 = X_train1.drop(columns=['seller_address_stateid'])\n",
    "X_train1 = pd.concat([X_train1,df_dummies],axis=1)"
   ]
  },
  {
   "cell_type": "code",
   "execution_count": 11,
   "metadata": {},
   "outputs": [],
   "source": [
    "# Creamos las variables binarias\n",
    "df_dummies2 = pd.get_dummies(X_test1['seller_address_stateid'], drop_first=True)\n",
    "df_dummies2 = df_dummies2.rename(columns={'AR-C': 'seller_address_stateid_AR-C','OTHER': 'seller_address_stateid_OTHER'})\n",
    "X_test1 = X_test1.drop(columns=['seller_address_stateid'])\n",
    "X_test1 = pd.concat([X_test1,df_dummies2],axis=1)"
   ]
  },
  {
   "cell_type": "code",
   "execution_count": 12,
   "metadata": {},
   "outputs": [],
   "source": [
    "num_cols = ['price', 'sold_quantity','non_mercado_pago_payment_methods_count','listing_type',\n",
    "            'days_last_updated', 'days_date_created', 'dif_vendidos',]\n",
    "dum_cols = ['tags_dragged_bids_and_visits','shipping_local_pick_up','shipping_mode_me2',\n",
    "            'seller_address_stateid_AR-C','seller_address_stateid_OTHER']\n",
    "\n",
    "scaler = StandardScaler()\n",
    "X_train1[num_cols] = scaler.fit_transform(X_train1[num_cols])\n",
    "X_test1[num_cols] = scaler.transform(X_test1[num_cols])"
   ]
  },
  {
   "cell_type": "code",
   "execution_count": 13,
   "metadata": {},
   "outputs": [],
   "source": [
    "y_train_dummy = pd.get_dummies(df_y_train)\n",
    "y_test_dummy = pd.get_dummies(df_y_test)\n",
    "\n",
    "# Referencia 'condition_new' = 1 --> Nuevo\n",
    "y_train = y_train_dummy['condition_new']\n",
    "y_test = y_test_dummy['condition_new']"
   ]
  },
  {
   "cell_type": "code",
   "execution_count": 14,
   "metadata": {},
   "outputs": [],
   "source": [
    "# Definir los rangos de valores para los hiperparámetros a ajustar\n",
    "param_dist = {\n",
    "    'learning_rate': uniform(0.01, 0.3),\n",
    "    'max_depth': randint(3, 10),\n",
    "    'n_estimators': randint(100, 500),\n",
    "}\n",
    "\n",
    "# Crear el clasificador de XGBoost\n",
    "model = xgb.XGBClassifier()\n",
    "\n",
    "# Realizar la búsqueda aleatoria\n",
    "random_search = RandomizedSearchCV(\n",
    "    estimator=model,\n",
    "    param_distributions=param_dist,\n",
    "    scoring='accuracy',\n",
    "    n_iter=10,\n",
    "    cv=5,\n",
    "    random_state=42\n",
    ")\n",
    "random_search.fit(X_train1, y_train)\n",
    "\n",
    "# Obtener los mejores hiperparámetros y el mejor modelo\n",
    "best_params = random_search.best_params_\n",
    "best_model = random_search.best_estimator_"
   ]
  },
  {
   "cell_type": "code",
   "execution_count": 15,
   "metadata": {},
   "outputs": [
    {
     "name": "stdout",
     "output_type": "stream",
     "text": [
      "Best Model: XGBClassifier(base_score=None, booster=None, callbacks=None,\n",
      "              colsample_bylevel=None, colsample_bynode=None,\n",
      "              colsample_bytree=None, device=None, early_stopping_rounds=None,\n",
      "              enable_categorical=False, eval_metric=None, feature_types=None,\n",
      "              gamma=None, grow_policy=None, importance_type=None,\n",
      "              interaction_constraints=None, learning_rate=0.12236203565420874,\n",
      "              max_bin=None, max_cat_threshold=None, max_cat_to_onehot=None,\n",
      "              max_delta_step=None, max_depth=7, max_leaves=None,\n",
      "              min_child_weight=None, missing=nan, monotone_constraints=None,\n",
      "              multi_strategy=None, n_estimators=370, n_jobs=None,\n",
      "              num_parallel_tree=None, random_state=None, ...)\n",
      "Best params: {'learning_rate': 0.12236203565420874, 'max_depth': 7, 'n_estimators': 370}\n"
     ]
    }
   ],
   "source": [
    "print(\"Best Model: {}\".format(best_model))\n",
    "print(\"Best params: {}\".format(best_params))"
   ]
  },
  {
   "cell_type": "code",
   "execution_count": 16,
   "metadata": {},
   "outputs": [
    {
     "name": "stdout",
     "output_type": "stream",
     "text": [
      "XGBClassifier(base_score=None, booster=None, callbacks=None,\n",
      "              colsample_bylevel=None, colsample_bynode=None,\n",
      "              colsample_bytree=None, device=None, early_stopping_rounds=None,\n",
      "              enable_categorical=False, eval_metric=None, feature_types=None,\n",
      "              gamma=None, grow_policy=None, importance_type=None,\n",
      "              interaction_constraints=None, learning_rate=0.12236203565420874,\n",
      "              max_bin=None, max_cat_threshold=None, max_cat_to_onehot=None,\n",
      "              max_delta_step=None, max_depth=7, max_leaves=None,\n",
      "              min_child_weight=None, missing=nan, monotone_constraints=None,\n",
      "              multi_strategy=None, n_estimators=370, n_jobs=None,\n",
      "              num_parallel_tree=None, random_state=None, ...)\n"
     ]
    }
   ],
   "source": [
    "modelXG = XGBClassifier(#n_jobs=-1, \n",
    "                        seed=1234,\n",
    "                        #colsample_bytree = 1.0,\n",
    "                        learning_rate = 0.12236203565420874, \n",
    "                        max_depth = 7, \n",
    "                        #min_child_weight = 10.0, \n",
    "                        n_estimators = 370)\n",
    "\n",
    "modelXG.fit(X_train1, y_train)\n",
    "print(modelXG)\n",
    "\n",
    "y_predXG = modelXG.predict(X_test1)\n",
    "predictionsXG = [round(value) for value in y_predXG]"
   ]
  },
  {
   "cell_type": "markdown",
   "metadata": {},
   "source": [
    "## Prediction and Confusion Matrix"
   ]
  },
  {
   "cell_type": "code",
   "execution_count": 17,
   "metadata": {},
   "outputs": [
    {
     "name": "stdout",
     "output_type": "stream",
     "text": [
      "Accuracy: 0.86\n",
      "F1 Score: 0.87\n",
      "Precision: 0.88\n",
      "Recall: 0.85\n"
     ]
    },
    {
     "data": {
      "image/png": "[encoded data removed]",
      "text/plain": [
       "<Figure size 576x432 with 2 Axes>"
      ]
     },
     "metadata": {
      "needs_background": "light"
     },
     "output_type": "display_data"
    }
   ],
   "source": [
    "# Predicciones\n",
    "y_train_predXG = modelXG.predict(X_train1)\n",
    "\n",
    "# Obtenemos la matriz de confusión a partir de los resultados obtenidos\n",
    "confusionMatrixXG = confusion_matrix(y_test, y_predXG)\n",
    "\n",
    "# Calcular métricas\n",
    "print(\"Accuracy:\", round(accuracy_score(y_test, y_predXG), 2))\n",
    "print(\"F1 Score:\", round(f1_score(y_test, y_predXG), 2))\n",
    "print(\"Precision:\", round(precision_score(y_test, y_predXG), 2))\n",
    "print(\"Recall:\", round(recall_score(y_test, y_predXG), 2))\n",
    "\n",
    "# Construir la matriz de confusión\n",
    "# Suponiendo que tus etiquetas son 1 para 'nuevo' y 0 para 'usado'\n",
    "cm = confusionMatrixXG\n",
    "\n",
    "# Visualizar la matriz de confusión\n",
    "plt.figure(figsize=(8, 6))\n",
    "sns.heatmap(cm, annot=True, fmt='d', cmap='Blues', xticklabels=['usado', 'nuevo'], yticklabels=['usado', 'nuevo'])\n",
    "plt.xlabel('Predicted labels')\n",
    "plt.ylabel('True labels')\n",
    "plt.title('Matriz de Confusión')\n",
    "plt.show()\n"
   ]
  },
  {
   "cell_type": "markdown",
   "metadata": {},
   "source": [
    "## Curva ROC"
   ]
  },
  {
   "cell_type": "code",
   "execution_count": 18,
   "metadata": {},
   "outputs": [
    {
     "data": {
      "image/png": "[encoded data removed]",
      "text/plain": [
       "<Figure size 576x432 with 1 Axes>"
      ]
     },
     "metadata": {
      "needs_background": "light"
     },
     "output_type": "display_data"
    }
   ],
   "source": [
    "y_prob = modelXG.predict_proba(X_test1)[:,1]  # Probabilidades para la clase positiva\n",
    "fpr, tpr, thresholds = roc_curve(y_test, y_prob)\n",
    "\n",
    "plt.figure(figsize=(8, 6))\n",
    "plt.plot(fpr, tpr, color='darkorange', lw=2, label='ROC curve (area = %0.2f)' % roc_auc_score(y_test, y_prob))\n",
    "plt.plot([0, 1], [0, 1], color='navy', lw=2, linestyle='--')\n",
    "plt.xlabel('False Positive Rate')\n",
    "plt.ylabel('True Positive Rate')\n",
    "plt.title('Receiver Operating Characteristic (ROC) Curve')\n",
    "plt.legend(loc=\"lower right\")\n",
    "plt.show()"
   ]
  },
  {
   "cell_type": "markdown",
   "metadata": {},
   "source": [
    "El área bajo la curva ROC (AUC) también se considera una métrica para evaluar la calidad del modelo. Cuanto más cerca esté el valor de 1, mejor será tu modelo; mientras que un valor de 0.5 (la línea diagonal) indica un modelo no mejor que una asignación aleatoria."
   ]
  }
 ],
 "metadata": {
  "kernelspec": {
   "display_name": "base",
   "language": "python",
   "name": "python3"
  },
  "language_info": {
   "codemirror_mode": {
    "name": "ipython",
    "version": 3
   },
   "file_extension": ".py",
   "mimetype": "text/x-python",
   "name": "python",
   "nbconvert_exporter": "python",
   "pygments_lexer": "ipython3",
   "version": "3.8.10"
  },
  "orig_nbformat": 4
 },
 "nbformat": 4,
 "nbformat_minor": 2
}
